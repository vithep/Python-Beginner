{
 "cells": [
  {
   "cell_type": "code",
   "execution_count": 1,
   "metadata": {},
   "outputs": [
    {
     "name": "stdout",
     "output_type": "stream",
     "text": [
      "Qual o valor do imovel? 100000\n",
      "Qual é o seu salario? 4000\n",
      "Em quanto tempo você vai pagar? 3\n",
      "Para comprar um casa de R$100000.00 em 3 anos\n",
      "Prestação de R$2777.78\n",
      "Aprovação \u001b[1;34;42mAPROVADA\u001b[m\n"
     ]
    }
   ],
   "source": [
    "p=float(input('Qual o valor do imovel? '))\n",
    "s=float(input('Qual é o seu salario? '))\n",
    "t=int(input('Em quanto tempo você vai pagar? '))\n",
    "pres = p/(t*12)\n",
    "print('Para comprar um casa de R${:.2f} em {} anos'.format(p,t))\n",
    "print('Prestação de R${:.2f}'.format(pres))\n",
    "if pres*0.3>=s:\n",
    "    print('Aprovação \\033[1;33;41mNEGADA\\033[m')\n",
    "else:\n",
    "    print('Aprovação \\033[1;34;42mAPROVADA\\033[m')"
   ]
  },
  {
   "cell_type": "code",
   "execution_count": null,
   "metadata": {},
   "outputs": [],
   "source": []
  }
 ],
 "metadata": {
  "kernelspec": {
   "display_name": "Python 3",
   "language": "python",
   "name": "python3"
  },
  "language_info": {
   "codemirror_mode": {
    "name": "ipython",
    "version": 3
   },
   "file_extension": ".py",
   "mimetype": "text/x-python",
   "name": "python",
   "nbconvert_exporter": "python",
   "pygments_lexer": "ipython3",
   "version": "3.8.3"
  }
 },
 "nbformat": 4,
 "nbformat_minor": 4
}
