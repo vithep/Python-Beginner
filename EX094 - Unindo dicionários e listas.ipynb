{
 "cells": [
  {
   "cell_type": "code",
   "execution_count": 2,
   "metadata": {},
   "outputs": [
    {
     "name": "stdout",
     "output_type": "stream",
     "text": [
      "Nome: victor\n",
      "Sexo: [M/F] m\n",
      "Idade: 25\n",
      "Quer continuar? [S/N] n\n",
      "-=-=-=-=-=-=-=-=-=-=-=-=-=-=-=-=-=-=-=-=-=-=-=-=-=-=-=-=-=-=\n",
      "A) Ao todo temos 1 pessoas cadastradas\n",
      "B) A média de idade é de 25.00 anos.\n",
      "C) As mulheres cadastradas foram \n",
      "D) Lista das pessoas que estão acima da média: \n",
      "     \n",
      "nome = victor; sexo = M; idade = 25; \n",
      "<< ENCERRADO >>\n"
     ]
    }
   ],
   "source": [
    "pessoa = dict()\n",
    "galera = list()\n",
    "soma = media = 0\n",
    "while True:\n",
    "    pessoa.clear()\n",
    "    pessoa['nome'] = str(input('Nome: '))\n",
    "    while True:\n",
    "        pessoa['sexo'] = str(input('Sexo: [M/F] ')).upper().strip()[0]\n",
    "        if pessoa['sexo'] in 'MF':\n",
    "            break\n",
    "        print('ERRO! Por Favor, digite apenas M ou F.')\n",
    "    pessoa['idade'] = int(input('Idade: '))\n",
    "    soma +=pessoa['idade']\n",
    "    galera.append(pessoa.copy())\n",
    "    while True:\n",
    "        resp = str(input('Quer continuar? [S/N] ')).upper().strip()[0]\n",
    "        if resp in 'SN':\n",
    "            break\n",
    "        print('ERRO! Responda apenas S ou N.')\n",
    "    if resp == 'N':\n",
    "        break\n",
    "print('-='*30)\n",
    "media = soma / len(galera)\n",
    "print(f'A) Ao todo temos {len(galera)} pessoas cadastradas')\n",
    "print(f'B) A média de idade é de {media:5.2f} anos.')\n",
    "print(f'C) As mulheres cadastradas foram ',end=\"\")\n",
    "for p in galera:\n",
    "    if p['sexo'] in 'Ff':\n",
    "        print(f'{p[\"nome\"]} ', end='')\n",
    "print()\n",
    "print('D) Lista das pessoas que estão acima da média: ')\n",
    "for p in galera:\n",
    "    if p[\"idade\"] >=media:\n",
    "        print('     ')\n",
    "        for k,v in p.items():\n",
    "            print(f'{k} = {v}; ', end='')\n",
    "        print()\n",
    "print('<< ENCERRADO >>')"
   ]
  },
  {
   "cell_type": "code",
   "execution_count": null,
   "metadata": {},
   "outputs": [],
   "source": []
  }
 ],
 "metadata": {
  "kernelspec": {
   "display_name": "Python 3",
   "language": "python",
   "name": "python3"
  },
  "language_info": {
   "codemirror_mode": {
    "name": "ipython",
    "version": 3
   },
   "file_extension": ".py",
   "mimetype": "text/x-python",
   "name": "python",
   "nbconvert_exporter": "python",
   "pygments_lexer": "ipython3",
   "version": "3.8.3"
  }
 },
 "nbformat": 4,
 "nbformat_minor": 4
}
