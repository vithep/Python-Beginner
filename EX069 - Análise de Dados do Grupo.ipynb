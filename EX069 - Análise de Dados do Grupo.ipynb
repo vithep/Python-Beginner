{
 "cells": [
  {
   "cell_type": "code",
   "execution_count": 1,
   "metadata": {},
   "outputs": [
    {
     "name": "stdout",
     "output_type": "stream",
     "text": [
      "Idade: 25\n",
      "Sexo [M/F]: m\n",
      "Quer continuar [S/N]: n\n",
      "Total de pessoas com mais de 18 ano: 1\n",
      "Total de homens: 1\n",
      "Total de mulheres com mais de 20 ano: 0\n"
     ]
    }
   ],
   "source": [
    "tot = totH = totM = 0\n",
    "while True:\n",
    "    idade = int(input('Idade: '))\n",
    "    sexo = ' '\n",
    "    while sexo not in 'MF':\n",
    "        sexo = str(input('Sexo [M/F]: ')).strip().upper()[0]\n",
    "    if idade >= 18:\n",
    "        tot +=1\n",
    "    if sexo == 'M':\n",
    "        totH +=1\n",
    "    if sexo == 'F' and idade < 20:\n",
    "        totM +=1\n",
    "    resp =' '\n",
    "    while resp not in 'SN':\n",
    "        resp = str(input('Quer continuar [S/N]: ')).strip().upper()[0]\n",
    "    if resp == \"N\":\n",
    "        break\n",
    "print(f'Total de pessoas com mais de 18 ano: {tot}')\n",
    "print(f'Total de homens: {totH}')\n",
    "print(f'Total de mulheres com mais de 20 ano: {totM}')\n"
   ]
  },
  {
   "cell_type": "code",
   "execution_count": null,
   "metadata": {},
   "outputs": [],
   "source": []
  }
 ],
 "metadata": {
  "kernelspec": {
   "display_name": "Python 3",
   "language": "python",
   "name": "python3"
  },
  "language_info": {
   "codemirror_mode": {
    "name": "ipython",
    "version": 3
   },
   "file_extension": ".py",
   "mimetype": "text/x-python",
   "name": "python",
   "nbconvert_exporter": "python",
   "pygments_lexer": "ipython3",
   "version": "3.8.3"
  }
 },
 "nbformat": 4,
 "nbformat_minor": 4
}
