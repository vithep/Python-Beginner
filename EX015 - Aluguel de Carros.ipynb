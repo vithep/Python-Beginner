{
 "cells": [
  {
   "cell_type": "code",
   "execution_count": 1,
   "metadata": {},
   "outputs": [
    {
     "name": "stdout",
     "output_type": "stream",
     "text": [
      "Quantos dias o carro foi alugado? 34\n",
      "Quantos KM rodados? 1500\n",
      "O total a pagar é de R$2265.00\n"
     ]
    }
   ],
   "source": [
    "d=int(input('Quantos dias o carro foi alugado? '))\n",
    "r=float(input('Quantos KM rodados? '))\n",
    "d1=d*60\n",
    "r1=r*0.15\n",
    "print('O total a pagar é de R${:.2f}'.format(d1+r1))"
   ]
  },
  {
   "cell_type": "code",
   "execution_count": null,
   "metadata": {},
   "outputs": [],
   "source": []
  }
 ],
 "metadata": {
  "kernelspec": {
   "display_name": "Python 3",
   "language": "python",
   "name": "python3"
  },
  "language_info": {
   "codemirror_mode": {
    "name": "ipython",
    "version": 3
   },
   "file_extension": ".py",
   "mimetype": "text/x-python",
   "name": "python",
   "nbconvert_exporter": "python",
   "pygments_lexer": "ipython3",
   "version": "3.8.3"
  }
 },
 "nbformat": 4,
 "nbformat_minor": 4
}
