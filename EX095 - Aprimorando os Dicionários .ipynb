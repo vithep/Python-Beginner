{
 "cells": [
  {
   "cell_type": "code",
   "execution_count": 1,
   "metadata": {},
   "outputs": [
    {
     "name": "stdout",
     "output_type": "stream",
     "text": [
      "Nome do Jogador: Ronaldo\n",
      "Quantas partidas Ronaldo jogou? 4\n",
      "     Quantos gols na partida 0?  1\n",
      "     Quantos gols na partida 1?  2\n",
      "     Quantos gols na partida 2?  3\n",
      "     Quantos gols na partida 3?  2\n",
      "Quer continuar? [S/N] n\n",
      "cod nome            gols            total           \n",
      "-=-=-=-=-=-=-=-=-=-=-=-=-=-=-=-=-=-=-=-=-=-=-=-=-=-=-=-=-=-=-=-=-=-=-=-=-=-=-=-=\n",
      "  0 Ronaldo         [1, 2, 3, 2]    8               \n",
      "-=-=-=-=-=-=-=-=-=-=-=-=-=-=-=-=-=-=-=-=-=-=-=-=-=-=-=-=-=-=-=-=-=-=-=-=-=-=-=-=\n",
      "Mostrar dados de qual jogador? !999 cancela!999\n",
      "<< Volte Sempre >>\n"
     ]
    }
   ],
   "source": [
    "time = []\n",
    "jogador = dict()\n",
    "partidas = list()\n",
    "\n",
    "while True:\n",
    "    jogador.clear()\n",
    "    jogador['nome'] = str(input('Nome do Jogador: '))\n",
    "    tot = int(input(f'Quantas partidas {jogador[\"nome\"]} jogou? '))\n",
    "    partidas.clear()\n",
    "    for c in range(0,tot):\n",
    "        partidas.append(int(input(f'     Quantos gols na partida {c}?  ')))\n",
    "    jogador['gols'] = partidas[:]\n",
    "    jogador['total'] = sum(partidas)\n",
    "    time.append(jogador.copy())\n",
    "    while True:\n",
    "        resp = str(input('Quer continuar? [S/N] ')).upper()[0]\n",
    "        if resp in 'SN':\n",
    "            break\n",
    "        print('ERRO! Responda apenas S ou N.')\n",
    "    if resp == 'N':\n",
    "        break\n",
    "print('cod ', end='')\n",
    "for i in jogador.keys():\n",
    "    print(f'{i:<15} ',end='')\n",
    "print()\n",
    "print('-='*40)\n",
    "for k,v in enumerate(time):\n",
    "    print(f'{k:>3} ', end='')\n",
    "    for d in v.values():\n",
    "        print(f'{str(d):<15} ', end='')\n",
    "    print()\n",
    "print('-='*40)\n",
    "while True:\n",
    "    busca = int(input('Mostrar dados de qual jogador? !999 cancela!'))\n",
    "    if busca == 999:\n",
    "        break\n",
    "    if busca >= len(time):\n",
    "        print(f'ERRO! Não existe jogador com codigo {busca}! ')\n",
    "    else:\n",
    "        print(f' -- LEVANTAMENTO DO JOGADOR {time[busca][\"nome\"]}:')\n",
    "        for i,g in enumerate(time[busca][\"gols\"]):\n",
    "            print(f'    No jogo {i+1} fez {g} gols.')\n",
    "    print('-' * 40)\n",
    "print('<< Volte Sempre >>')\n"
   ]
  },
  {
   "cell_type": "code",
   "execution_count": null,
   "metadata": {},
   "outputs": [],
   "source": []
  }
 ],
 "metadata": {
  "kernelspec": {
   "display_name": "Python 3",
   "language": "python",
   "name": "python3"
  },
  "language_info": {
   "codemirror_mode": {
    "name": "ipython",
    "version": 3
   },
   "file_extension": ".py",
   "mimetype": "text/x-python",
   "name": "python",
   "nbconvert_exporter": "python",
   "pygments_lexer": "ipython3",
   "version": "3.8.3"
  }
 },
 "nbformat": 4,
 "nbformat_minor": 4
}
