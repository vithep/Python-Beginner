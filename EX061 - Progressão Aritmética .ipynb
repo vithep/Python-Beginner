{
 "cells": [
  {
   "cell_type": "code",
   "execution_count": 1,
   "metadata": {},
   "outputs": [
    {
     "name": "stdout",
     "output_type": "stream",
     "text": [
      "Digite um numero? 5\n",
      "Qual a razao? 6\n",
      "5 -> 11 -> 17 -> 23 -> 29 -> 35 -> 41 -> 47 -> 53 -> 59 -> FIM\n"
     ]
    }
   ],
   "source": [
    "n=int(input('Digite um numero? '))\n",
    "r=int(input('Qual a razao? '))\n",
    "termo = n\n",
    "cont = 1\n",
    "while cont<=10:\n",
    "    print('{} -> '.format(termo),end=\"\")\n",
    "    termo +=r\n",
    "    cont +=1\n",
    "print('FIM')"
   ]
  },
  {
   "cell_type": "code",
   "execution_count": null,
   "metadata": {},
   "outputs": [],
   "source": []
  }
 ],
 "metadata": {
  "kernelspec": {
   "display_name": "Python 3",
   "language": "python",
   "name": "python3"
  },
  "language_info": {
   "codemirror_mode": {
    "name": "ipython",
    "version": 3
   },
   "file_extension": ".py",
   "mimetype": "text/x-python",
   "name": "python",
   "nbconvert_exporter": "python",
   "pygments_lexer": "ipython3",
   "version": "3.8.3"
  }
 },
 "nbformat": 4,
 "nbformat_minor": 4
}
