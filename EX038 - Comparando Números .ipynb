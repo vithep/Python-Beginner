{
 "cells": [
  {
   "cell_type": "code",
   "execution_count": 1,
   "metadata": {},
   "outputs": [],
   "source": [
    "import time"
   ]
  },
  {
   "cell_type": "code",
   "execution_count": 2,
   "metadata": {},
   "outputs": [
    {
     "name": "stdout",
     "output_type": "stream",
     "text": [
      "Digite o primeiro numero: 4\n",
      "Digite o segundo numero: 6\n",
      "Processando...\n",
      "------------\n",
      "O numero 6 é maior que o numero 4\n"
     ]
    }
   ],
   "source": [
    "n1=int(input('Digite o primeiro numero: '))\n",
    "n2=int(input('Digite o segundo numero: '))\n",
    "n=n1\n",
    "print(\"Processando...\")\n",
    "print('-'*12)\n",
    "time.sleep(3)\n",
    "if n<n2:\n",
    "    print('O numero {} é maior que o numero {}'.format(n2,n))\n",
    "elif n==n2:\n",
    "    print('Os numeros são iguais')\n",
    "else:\n",
    "    print('O numero {} é maior que o numero {}'.format(n,n2))"
   ]
  },
  {
   "cell_type": "code",
   "execution_count": null,
   "metadata": {},
   "outputs": [],
   "source": []
  }
 ],
 "metadata": {
  "kernelspec": {
   "display_name": "Python 3",
   "language": "python",
   "name": "python3"
  },
  "language_info": {
   "codemirror_mode": {
    "name": "ipython",
    "version": 3
   },
   "file_extension": ".py",
   "mimetype": "text/x-python",
   "name": "python",
   "nbconvert_exporter": "python",
   "pygments_lexer": "ipython3",
   "version": "3.8.3"
  }
 },
 "nbformat": 4,
 "nbformat_minor": 4
}
