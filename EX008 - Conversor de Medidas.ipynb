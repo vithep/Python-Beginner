{
 "cells": [
  {
   "cell_type": "code",
   "execution_count": 1,
   "metadata": {},
   "outputs": [
    {
     "name": "stdout",
     "output_type": "stream",
     "text": [
      "Digite o valor em metros:10\n",
      "O valor medido de 10.0m corresponde a\n",
      "0.01km\n",
      "0.1hm\n",
      "1.0dam\n",
      "100dm\n",
      "1000cm\n",
      "10000mm\n"
     ]
    }
   ],
   "source": [
    "v=float(input(\"Digite o valor em metros:\"))\n",
    "print('O valor medido de {}m corresponde a\\n{}km\\n{}hm\\n{}dam\\n{}dm\\n{}cm\\n{}mm'.format(v,v/1000,v/100,v/10,int(v*10),int(v*100),int(v*1000)))\n"
   ]
  },
  {
   "cell_type": "code",
   "execution_count": null,
   "metadata": {},
   "outputs": [],
   "source": []
  }
 ],
 "metadata": {
  "kernelspec": {
   "display_name": "Python 3",
   "language": "python",
   "name": "python3"
  },
  "language_info": {
   "codemirror_mode": {
    "name": "ipython",
    "version": 3
   },
   "file_extension": ".py",
   "mimetype": "text/x-python",
   "name": "python",
   "nbconvert_exporter": "python",
   "pygments_lexer": "ipython3",
   "version": "3.8.3"
  }
 },
 "nbformat": 4,
 "nbformat_minor": 4
}
