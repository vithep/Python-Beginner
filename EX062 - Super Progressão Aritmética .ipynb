{
 "cells": [
  {
   "cell_type": "code",
   "execution_count": 1,
   "metadata": {},
   "outputs": [
    {
     "name": "stdout",
     "output_type": "stream",
     "text": [
      "Digite um numero? 5\n",
      "Qual a razao? 3\n",
      "5 -> 8 -> 11 -> 14 -> 17 -> 20 -> 23 -> 26 -> 29 -> 32 -> PAUSA\n",
      "Quantos termos você quer mostrar a mais?2\n",
      "35 -> 38 -> PAUSA\n",
      "Quantos termos você quer mostrar a mais?2\n",
      "41 -> 44 -> PAUSA\n",
      "Quantos termos você quer mostrar a mais?0\n",
      "Progressão finalizado com 14 termos mostrados\n",
      "FIM\n"
     ]
    }
   ],
   "source": [
    "n=int(input('Digite um numero? '))\n",
    "r=int(input('Qual a razao? '))\n",
    "termo = n\n",
    "cont = 1\n",
    "total=0\n",
    "mais=10\n",
    "while mais!=0:\n",
    "    total = total + mais\n",
    "    while cont<=total:\n",
    "        print('{} -> '.format(termo),end=\"\")\n",
    "        termo +=r\n",
    "        cont +=1\n",
    "    print('PAUSA')\n",
    "    mais = int(input('Quantos termos você quer mostrar a mais? '))\n",
    "print('Progressão finalizado com {} termos mostrados'.format(total))\n",
    "print('FIM')"
   ]
  },
  {
   "cell_type": "code",
   "execution_count": null,
   "metadata": {},
   "outputs": [],
   "source": []
  }
 ],
 "metadata": {
  "kernelspec": {
   "display_name": "Python 3",
   "language": "python",
   "name": "python3"
  },
  "language_info": {
   "codemirror_mode": {
    "name": "ipython",
    "version": 3
   },
   "file_extension": ".py",
   "mimetype": "text/x-python",
   "name": "python",
   "nbconvert_exporter": "python",
   "pygments_lexer": "ipython3",
   "version": "3.8.3"
  }
 },
 "nbformat": 4,
 "nbformat_minor": 4
}
