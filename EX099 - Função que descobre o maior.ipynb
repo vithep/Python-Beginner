{
 "cells": [
  {
   "cell_type": "code",
   "execution_count": 1,
   "metadata": {},
   "outputs": [],
   "source": [
    "from time import sleep"
   ]
  },
  {
   "cell_type": "code",
   "execution_count": 2,
   "metadata": {},
   "outputs": [
    {
     "name": "stdout",
     "output_type": "stream",
     "text": [
      "\n",
      "Analisando os valores passados... \n",
      "2 9 4 5 7 1 Foram informados 6 valores ao todo.\n",
      "O maior valor informado foi 9\n",
      "-=-=-=-=-=-=-=-=-=-=-=-=\n",
      "\n",
      "Analisando os valores passados... \n",
      "4 7 0 Foram informados 3 valores ao todo.\n",
      "O maior valor informado foi 7\n",
      "-=-=-=-=-=-=-=-=-=-=-=-=\n",
      "\n",
      "Analisando os valores passados... \n",
      "1 2 Foram informados 2 valores ao todo.\n",
      "O maior valor informado foi 2\n",
      "-=-=-=-=-=-=-=-=-=-=-=-=\n",
      "\n",
      "Analisando os valores passados... \n",
      "6 Foram informados 1 valores ao todo.\n",
      "O maior valor informado foi 6\n",
      "-=-=-=-=-=-=-=-=-=-=-=-=\n",
      "\n",
      "Analisando os valores passados... \n",
      "Foram informados 0 valores ao todo.\n",
      "O maior valor informado foi 0\n",
      "-=-=-=-=-=-=-=-=-=-=-=-=\n"
     ]
    }
   ],
   "source": [
    "def maior(* num):\n",
    "    cont = maior = 0\n",
    "    print('\\nAnalisando os valores passados... ')\n",
    "    for valor in num:\n",
    "        print(f'{valor} ', end='', flush=True)\n",
    "        sleep(0.3)\n",
    "        if cont == 0:\n",
    "            maior = valor\n",
    "        else:\n",
    "            if valor > maior:\n",
    "                maior = valor\n",
    "        cont += 1\n",
    "    print(f'Foram informados {cont} valores ao todo.')\n",
    "    print(f'O maior valor informado foi {maior}')\n",
    "    print('-='*12)\n",
    "\n",
    "maior(2, 9, 4, 5, 7, 1)\n",
    "maior(4, 7, 0)\n",
    "maior(1, 2)\n",
    "maior(6)\n",
    "maior()"
   ]
  },
  {
   "cell_type": "code",
   "execution_count": null,
   "metadata": {},
   "outputs": [],
   "source": []
  }
 ],
 "metadata": {
  "kernelspec": {
   "display_name": "Python 3",
   "language": "python",
   "name": "python3"
  },
  "language_info": {
   "codemirror_mode": {
    "name": "ipython",
    "version": 3
   },
   "file_extension": ".py",
   "mimetype": "text/x-python",
   "name": "python",
   "nbconvert_exporter": "python",
   "pygments_lexer": "ipython3",
   "version": "3.8.3"
  }
 },
 "nbformat": 4,
 "nbformat_minor": 4
}
