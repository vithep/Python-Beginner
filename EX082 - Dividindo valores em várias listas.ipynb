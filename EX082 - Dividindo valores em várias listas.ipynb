{
 "cells": [
  {
   "cell_type": "code",
   "execution_count": 1,
   "metadata": {},
   "outputs": [
    {
     "name": "stdout",
     "output_type": "stream",
     "text": [
      "Digite um valor: 5\n",
      "Você quer continuar [S/N]: n\n",
      "-=-=-=-=-=-=-=-=-=-=-=-=-=-=-=-=-=-=-=-=-=-=-=-=-=-=-=-=-=-=\n",
      "Você digitou 1 elementos\n",
      "Os valores são: [5]\n",
      "Os valores pares ordem crescente: []\n",
      "Os valores impares ordem crescente: [5]\n"
     ]
    }
   ],
   "source": [
    "lista = []\n",
    "listapar = []\n",
    "listaimp = []\n",
    "while True:\n",
    "    lista.append(int(input('Digite um valor: ')))\n",
    "    resp = str(input('Você quer continuar [S/N]: ')).upper().strip()[0]\n",
    "    if resp in 'Nn':\n",
    "        break\n",
    "print('-='*30)\n",
    "print(f'Você digitou {len(lista)} elementos')\n",
    "print(f'Os valores são: {lista}')\n",
    "for i in range(0,len(lista)):\n",
    "    if lista[i]%2 == 0:\n",
    "        listapar.append(lista[i])\n",
    "    else:\n",
    "        listaimp.append(lista[i])\n",
    "listapar.sort()\n",
    "listaimp.sort()\n",
    "print(f'Os valores pares ordem crescente: {listapar}')\n",
    "print(f'Os valores impares ordem crescente: {listaimp}')"
   ]
  },
  {
   "cell_type": "code",
   "execution_count": null,
   "metadata": {},
   "outputs": [],
   "source": []
  }
 ],
 "metadata": {
  "kernelspec": {
   "display_name": "Python 3",
   "language": "python",
   "name": "python3"
  },
  "language_info": {
   "codemirror_mode": {
    "name": "ipython",
    "version": 3
   },
   "file_extension": ".py",
   "mimetype": "text/x-python",
   "name": "python",
   "nbconvert_exporter": "python",
   "pygments_lexer": "ipython3",
   "version": "3.8.3"
  }
 },
 "nbformat": 4,
 "nbformat_minor": 4
}
