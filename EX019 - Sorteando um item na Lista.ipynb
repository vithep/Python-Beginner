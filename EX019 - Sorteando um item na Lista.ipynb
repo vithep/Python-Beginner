{
 "cells": [
  {
   "cell_type": "code",
   "execution_count": 1,
   "metadata": {},
   "outputs": [],
   "source": [
    "import random"
   ]
  },
  {
   "cell_type": "code",
   "execution_count": 2,
   "metadata": {},
   "outputs": [
    {
     "name": "stdout",
     "output_type": "stream",
     "text": [
      "Digite um nome:Victor\n",
      "Digite um nome:Antonio\n",
      "Digite um nome:Sergio\n",
      "Digite um nome:Renan\n",
      "O aluno escolhido foi Antonio\n"
     ]
    }
   ],
   "source": [
    "a=input(\"Digite um nome:\")\n",
    "b=input(\"Digite um nome:\")\n",
    "c=input(\"Digite um nome:\")\n",
    "d=input(\"Digite um nome:\")\n",
    "lista=[a,b,c,d]\n",
    "print('O aluno escolhido foi {}'.format(random.choice(lista)))"
   ]
  },
  {
   "cell_type": "code",
   "execution_count": null,
   "metadata": {},
   "outputs": [],
   "source": []
  }
 ],
 "metadata": {
  "kernelspec": {
   "display_name": "Python 3",
   "language": "python",
   "name": "python3"
  },
  "language_info": {
   "codemirror_mode": {
    "name": "ipython",
    "version": 3
   },
   "file_extension": ".py",
   "mimetype": "text/x-python",
   "name": "python",
   "nbconvert_exporter": "python",
   "pygments_lexer": "ipython3",
   "version": "3.8.3"
  }
 },
 "nbformat": 4,
 "nbformat_minor": 4
}
