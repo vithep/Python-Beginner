{
 "cells": [
  {
   "cell_type": "code",
   "execution_count": 2,
   "metadata": {},
   "outputs": [
    {
     "name": "stdout",
     "output_type": "stream",
     "text": [
      "Informe um numero: 50\n",
      "Analisando o número 50\n",
      "Unidade: 0\n",
      "Dezena: 5\n",
      "Centena: 0\n",
      "Milhar: 0\n"
     ]
    }
   ],
   "source": [
    "num=int(input('Informe um numero: '))\n",
    "u = num // 1 % 10\n",
    "d = num // 10 % 10\n",
    "c = num // 100 % 10\n",
    "m = num // 1000 % 10\n",
    "print('Analisando o número {}'.format(num))\n",
    "print('Unidade: {}'.format(u))\n",
    "print('Dezena: {}'.format(d))\n",
    "print('Centena: {}'.format(c))\n",
    "print('Milhar: {}'.format(m))"
   ]
  },
  {
   "cell_type": "code",
   "execution_count": null,
   "metadata": {},
   "outputs": [],
   "source": []
  }
 ],
 "metadata": {
  "kernelspec": {
   "display_name": "Python 3",
   "language": "python",
   "name": "python3"
  },
  "language_info": {
   "codemirror_mode": {
    "name": "ipython",
    "version": 3
   },
   "file_extension": ".py",
   "mimetype": "text/x-python",
   "name": "python",
   "nbconvert_exporter": "python",
   "pygments_lexer": "ipython3",
   "version": "3.8.3"
  }
 },
 "nbformat": 4,
 "nbformat_minor": 4
}
