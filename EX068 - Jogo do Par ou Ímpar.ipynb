{
 "cells": [
  {
   "cell_type": "code",
   "execution_count": 3,
   "metadata": {},
   "outputs": [],
   "source": [
    "from random import randint"
   ]
  },
  {
   "cell_type": "code",
   "execution_count": 4,
   "metadata": {},
   "outputs": [
    {
     "name": "stdout",
     "output_type": "stream",
     "text": [
      "Diga um valor: 2\n",
      "Par ou Impar [P/I]? p\n",
      "Você jogou 2 e o computador 5.Total de 7\n",
      "Deu IMPAR\n",
      "Perdeu!!!\n",
      "Game Over, você ganhou 0 vezes\n"
     ]
    }
   ],
   "source": [
    "v=0\n",
    "while True:\n",
    "    jogador = int(input('Diga um valor: '))\n",
    "    comp = randint(0,10)\n",
    "    total = jogador + comp\n",
    "    tipo = ' '\n",
    "    while tipo not in 'PpIi':\n",
    "        tipo = str(input('Par ou Impar [P/I]? ')).upper()[0]\n",
    "    print(f'Você jogou {jogador} e o computador {comp}.Total de {total}')\n",
    "    print('Deu PAR'if total%2==0 else 'Deu IMPAR')\n",
    "    if tipo == \"P\":\n",
    "        if total%2==0:\n",
    "            print('Venceu!!!')\n",
    "            v+=1\n",
    "        else:\n",
    "            print('Perdeu!!!')\n",
    "            break\n",
    "    elif tipo == \"I\":\n",
    "        if total%2==1:\n",
    "            print('Venceu!!!')\n",
    "            v+=1\n",
    "        else:\n",
    "            print('Perdeu!!!')\n",
    "            break\n",
    "    print('Vamos jogar novamente...')\n",
    "print(f'Game Over, você ganhou {v} vezes')"
   ]
  },
  {
   "cell_type": "code",
   "execution_count": null,
   "metadata": {},
   "outputs": [],
   "source": []
  }
 ],
 "metadata": {
  "kernelspec": {
   "display_name": "Python 3",
   "language": "python",
   "name": "python3"
  },
  "language_info": {
   "codemirror_mode": {
    "name": "ipython",
    "version": 3
   },
   "file_extension": ".py",
   "mimetype": "text/x-python",
   "name": "python",
   "nbconvert_exporter": "python",
   "pygments_lexer": "ipython3",
   "version": "3.8.3"
  }
 },
 "nbformat": 4,
 "nbformat_minor": 4
}
