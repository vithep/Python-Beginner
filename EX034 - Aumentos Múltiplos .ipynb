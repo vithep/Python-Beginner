{
 "cells": [
  {
   "cell_type": "code",
   "execution_count": 1,
   "metadata": {},
   "outputs": [
    {
     "name": "stdout",
     "output_type": "stream",
     "text": [
      "Qual é o salario do funcionario?950\n",
      "Quem ganhava R$950.00 passa a ganhar R$1045.0 agora!\n"
     ]
    }
   ],
   "source": [
    "s= float(input('Qual é o salario do funcionario?'))\n",
    "if s<=900:\n",
    "    s1=s*1.15\n",
    "    print('Quem ganhava R${:.2f} passa a ganhar R${} agora!'.format(s,s1))\n",
    "else:\n",
    "    s1=s*1.10\n",
    "    print('Quem ganhava R${:.2f} passa a ganhar R${} agora!'.format(s,s1))"
   ]
  },
  {
   "cell_type": "code",
   "execution_count": null,
   "metadata": {},
   "outputs": [],
   "source": []
  }
 ],
 "metadata": {
  "kernelspec": {
   "display_name": "Python 3",
   "language": "python",
   "name": "python3"
  },
  "language_info": {
   "codemirror_mode": {
    "name": "ipython",
    "version": 3
   },
   "file_extension": ".py",
   "mimetype": "text/x-python",
   "name": "python",
   "nbconvert_exporter": "python",
   "pygments_lexer": "ipython3",
   "version": "3.8.3"
  }
 },
 "nbformat": 4,
 "nbformat_minor": 4
}
