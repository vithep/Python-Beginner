{
 "cells": [
  {
   "cell_type": "code",
   "execution_count": 1,
   "metadata": {},
   "outputs": [],
   "source": [
    "from datetime import date"
   ]
  },
  {
   "cell_type": "code",
   "execution_count": 2,
   "metadata": {},
   "outputs": [
    {
     "name": "stdout",
     "output_type": "stream",
     "text": [
      "Ano de nascimento: 2013\n",
      "A Pessoa não tem idade, terá que se alistar em 2031\n"
     ]
    }
   ],
   "source": [
    "a=int(input('Ano de nascimento: '))\n",
    "ano=date.today().year\n",
    "idade= ano-a\n",
    "if idade>18:\n",
    "    print('A Pessoa se alistou em {}'.format(a+18))\n",
    "    print('Se a pessoa não se alistou, ela está {} anos atrasada'.format(ano-(a+18)))\n",
    "elif idade==18:\n",
    "    print('A pessoa tem que se alistar')\n",
    "else:\n",
    "    print('A Pessoa não tem idade, terá que se alistar em {}'.format(a+18))"
   ]
  },
  {
   "cell_type": "code",
   "execution_count": null,
   "metadata": {},
   "outputs": [],
   "source": []
  }
 ],
 "metadata": {
  "kernelspec": {
   "display_name": "Python 3",
   "language": "python",
   "name": "python3"
  },
  "language_info": {
   "codemirror_mode": {
    "name": "ipython",
    "version": 3
   },
   "file_extension": ".py",
   "mimetype": "text/x-python",
   "name": "python",
   "nbconvert_exporter": "python",
   "pygments_lexer": "ipython3",
   "version": "3.8.3"
  }
 },
 "nbformat": 4,
 "nbformat_minor": 4
}
