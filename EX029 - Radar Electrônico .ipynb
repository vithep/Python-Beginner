{
 "cells": [
  {
   "cell_type": "code",
   "execution_count": 1,
   "metadata": {},
   "outputs": [
    {
     "name": "stdout",
     "output_type": "stream",
     "text": [
      "Digite sua atual velocidade: 70\n",
      "Muito bem, siga viagem\n"
     ]
    }
   ],
   "source": [
    "v=float(input('Digite sua atual velocidade: '))\n",
    "if v>120:\n",
    "    print('Você foi multado!!!\\nDiminua sua velocidade.\\nDirija com cuidado')\n",
    "    print('Multa de R${:.2f}'.format((v-120)*7))\n",
    "elif v<=120 and v>80:\n",
    "    print('Diminua sua velocidade.\\nDirija com cuidado')\n",
    "else:\n",
    "    print('Muito bem, siga viagem')"
   ]
  },
  {
   "cell_type": "code",
   "execution_count": null,
   "metadata": {},
   "outputs": [],
   "source": []
  }
 ],
 "metadata": {
  "kernelspec": {
   "display_name": "Python 3",
   "language": "python",
   "name": "python3"
  },
  "language_info": {
   "codemirror_mode": {
    "name": "ipython",
    "version": 3
   },
   "file_extension": ".py",
   "mimetype": "text/x-python",
   "name": "python",
   "nbconvert_exporter": "python",
   "pygments_lexer": "ipython3",
   "version": "3.8.3"
  }
 },
 "nbformat": 4,
 "nbformat_minor": 4
}
