{
 "cells": [
  {
   "cell_type": "code",
   "execution_count": 1,
   "metadata": {},
   "outputs": [
    {
     "name": "stdout",
     "output_type": "stream",
     "text": [
      "{'total': 3, 'maior': 8.5, 'menor': 2.5, 'media': 5.5, 'situação': 'RAZOAVEL'}\n"
     ]
    }
   ],
   "source": [
    "def notas(*n, sit=False):\n",
    "    '''\n",
    "    -> Função para analisar notas e situações\n",
    "    :param n: uma ou mais notas dos alunos\n",
    "    :param sit: valor opicional\n",
    "    :return: dicionario com varias informações\n",
    "    '''\n",
    "    r = dict()\n",
    "    r['total'] = len(n)\n",
    "    r['maior'] = max(n)\n",
    "    r['menor'] = min(n)\n",
    "    r['media'] = sum(n)/len(n)\n",
    "    if sit:\n",
    "        if r['media'] >= 7:\n",
    "            r['situação'] = 'BOA'\n",
    "        elif r['media'] >=5:\n",
    "            r['situação'] = 'RAZOAVEL'\n",
    "        else:\n",
    "            r['situação'] = 'RUIM'\n",
    "    return r\n",
    "\n",
    "resp = notas(5.5, 2.5, 8.5, sit=True)\n",
    "print(resp)\n",
    "#help(notas)"
   ]
  },
  {
   "cell_type": "code",
   "execution_count": null,
   "metadata": {},
   "outputs": [],
   "source": []
  }
 ],
 "metadata": {
  "kernelspec": {
   "display_name": "Python 3",
   "language": "python",
   "name": "python3"
  },
  "language_info": {
   "codemirror_mode": {
    "name": "ipython",
    "version": 3
   },
   "file_extension": ".py",
   "mimetype": "text/x-python",
   "name": "python",
   "nbconvert_exporter": "python",
   "pygments_lexer": "ipython3",
   "version": "3.8.3"
  }
 },
 "nbformat": 4,
 "nbformat_minor": 4
}
