{
 "cells": [
  {
   "cell_type": "code",
   "execution_count": 1,
   "metadata": {},
   "outputs": [],
   "source": [
    "def aumentar(preço=0, taxa=0, formato = False):\n",
    "    res = preço + (preço * taxa/100)\n",
    "    return res if formato is False else moeda(res)\n",
    "\n",
    "def diminuir(preço=0, taxa=0, formato = False):\n",
    "    res =  preço - (preço * taxa / 100)\n",
    "    return res if formato is False else moeda(res)\n",
    "\n",
    "def dobro(preço=0, formato = False):\n",
    "    res = preço*2\n",
    "    return res if not formato else moeda(res)\n",
    "\n",
    "def metade(preço=0, formato = False):\n",
    "    res = preço / 2\n",
    "    return res if not formato else moeda(res)\n",
    "\n",
    "def moeda(preço=0, moeda='R$'):\n",
    "    return f'{moeda}{preço:>8.2f}'.replace('.',',')\n",
    "\n",
    "def resumo(preço=0, taxaa=10, taxar=5):\n",
    "    print('-'*30)\n",
    "    print('Resumo do valor'.center(30))\n",
    "    print('-' * 30)\n",
    "    print(f'Preço analisado: \\t{moeda(preço)}')\n",
    "    print(f'Dobro do preço: \\t{dobro(preço, True)}')\n",
    "    print(f'Metade do preço: \\t{metade(preço, True)}')\n",
    "    print(f'{taxaa}% de aumento: \\t{aumentar(preço,taxaa, True)}')\n",
    "    print(f'{taxar}% de redução: \\t{diminuir(preço, taxar, True)}')\n",
    "    print('-' * 30)\n",
    "\n",
    "def leiaDinheiro(msg):\n",
    "    valido = False\n",
    "    while not valido:\n",
    "        entrada = str(input(msg)).replace(',','.').strip()\n",
    "        if entrada.isalpha() or entrada==\"\":\n",
    "            print(f'\\033[0;31mERRO! \\\"{entrada}\\\" é um preço invalido!\\033[m')\n",
    "        else:\n",
    "           valido = True\n",
    "           return float(entrada)"
   ]
  },
  {
   "cell_type": "code",
   "execution_count": 3,
   "metadata": {},
   "outputs": [
    {
     "name": "stdout",
     "output_type": "stream",
     "text": [
      "Digite o preço: R$5\n",
      "------------------------------\n",
      "       Resumo do valor        \n",
      "------------------------------\n",
      "Preço analisado: \tR$    5,00\n",
      "Dobro do preço: \tR$   10,00\n",
      "Metade do preço: \tR$    2,50\n",
      "20% de aumento: \tR$    6,00\n",
      "12% de redução: \tR$    4,40\n",
      "------------------------------\n"
     ]
    }
   ],
   "source": [
    "p = leiaDinheiro('Digite o preço: R$')\n",
    "resumo(p,20,12)\n",
    "\n",
    "#print(f'A metade de {moeda.moeda(p)} é {moeda.metade(p,True)}')\n",
    "#print(f'O dobro de {moeda.moeda(p)} é {moeda.dobro(p, True)}')\n",
    "#print(f'Aumentando 10%, temos R${moeda.aumentar(p, 10, True)}')\n",
    "#print(f'Diminuindo 10%, temos R${moeda.diminuir(p, 10, True)}')\n"
   ]
  },
  {
   "cell_type": "code",
   "execution_count": null,
   "metadata": {},
   "outputs": [],
   "source": []
  }
 ],
 "metadata": {
  "kernelspec": {
   "display_name": "Python 3",
   "language": "python",
   "name": "python3"
  },
  "language_info": {
   "codemirror_mode": {
    "name": "ipython",
    "version": 3
   },
   "file_extension": ".py",
   "mimetype": "text/x-python",
   "name": "python",
   "nbconvert_exporter": "python",
   "pygments_lexer": "ipython3",
   "version": "3.8.3"
  }
 },
 "nbformat": 4,
 "nbformat_minor": 4
}
