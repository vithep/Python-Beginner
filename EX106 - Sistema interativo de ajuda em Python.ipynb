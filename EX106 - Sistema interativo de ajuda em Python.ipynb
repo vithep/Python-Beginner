{
 "cells": [
  {
   "cell_type": "code",
   "execution_count": 1,
   "metadata": {},
   "outputs": [],
   "source": [
    "from time import sleep"
   ]
  },
  {
   "cell_type": "code",
   "execution_count": null,
   "metadata": {},
   "outputs": [
    {
     "name": "stdout",
     "output_type": "stream",
     "text": [
      "\u001b[0;30;42m~~~~~~~~~~~~~~~~~~~~~~~~~~\n",
      "  Sitema de Ajuda Python\n",
      "~~~~~~~~~~~~~~~~~~~~~~~~~~\n",
      "\u001b[mFunção ou Biblioteca >biblioteca\n",
      "\u001b[0;30;44m~~~~~~~~~~~~~~~~~~~~~~~~~~~~~~~~~~~~~~~~~~~~~~\n",
      "  Acessando o manual do comando 'biblioteca'\n",
      "~~~~~~~~~~~~~~~~~~~~~~~~~~~~~~~~~~~~~~~~~~~~~~\n",
      "\u001b[m\u001b[7;30mNo Python documentation found for 'biblioteca'.\n",
      "Use help() to get the interactive help utility.\n",
      "Use help(str) for help on the str class.\n",
      "\n",
      "\u001b[m\u001b[0;30;42m~~~~~~~~~~~~~~~~~~~~~~~~~~\n",
      "  Sitema de Ajuda Python\n",
      "~~~~~~~~~~~~~~~~~~~~~~~~~~\n",
      "\u001b[mFunção ou Biblioteca >função\n",
      "\u001b[0;30;44m~~~~~~~~~~~~~~~~~~~~~~~~~~~~~~~~~~~~~~~~~~\n",
      "  Acessando o manual do comando 'função'\n",
      "~~~~~~~~~~~~~~~~~~~~~~~~~~~~~~~~~~~~~~~~~~\n",
      "\u001b[m\u001b[7;30mNo Python documentation found for 'função'.\n",
      "Use help() to get the interactive help utility.\n",
      "Use help(str) for help on the str class.\n",
      "\n",
      "\u001b[m\u001b[0;30;42m~~~~~~~~~~~~~~~~~~~~~~~~~~\n",
      "  Sitema de Ajuda Python\n",
      "~~~~~~~~~~~~~~~~~~~~~~~~~~\n",
      "\u001b[m"
     ]
    }
   ],
   "source": [
    "c=('\\033[m',\n",
    "   '\\033[0;30;41m',\n",
    "   '\\033[0;30;42m',\n",
    "   '\\033[0;30;43m',\n",
    "   '\\033[0;30;44m',\n",
    "   '\\033[0;30;45m',\n",
    "   '\\033[7;30m')\n",
    "\n",
    "def ajuda(com):\n",
    "    titulo(f'Acessando o manual do comando \\'{com}\\'', 4)\n",
    "    print(c[6], end='')\n",
    "    help(com)\n",
    "    print(c[0], end='')\n",
    "    sleep(2)\n",
    "\n",
    "def titulo(msg, cor=0):\n",
    "    tam = len(msg) + 4\n",
    "    print(c[cor], end='')\n",
    "    print('~'*tam)\n",
    "    print(f'  {msg}')\n",
    "    print('~' * tam)\n",
    "    print(c[0], end='')\n",
    "    sleep(1)\n",
    "\n",
    "comando = \" \"\n",
    "while True:\n",
    "    titulo('Sitema de Ajuda Python', 2)\n",
    "    comando = str(input('Função ou Biblioteca >'))\n",
    "    if comando.upper() == 'FIM':\n",
    "        break\n",
    "    else:\n",
    "        ajuda(comando)\n",
    "titulo('Até Logo', 1)"
   ]
  },
  {
   "cell_type": "code",
   "execution_count": null,
   "metadata": {},
   "outputs": [],
   "source": []
  }
 ],
 "metadata": {
  "kernelspec": {
   "display_name": "Python 3",
   "language": "python",
   "name": "python3"
  },
  "language_info": {
   "codemirror_mode": {
    "name": "ipython",
    "version": 3
   },
   "file_extension": ".py",
   "mimetype": "text/x-python",
   "name": "python",
   "nbconvert_exporter": "python",
   "pygments_lexer": "ipython3",
   "version": "3.8.3"
  }
 },
 "nbformat": 4,
 "nbformat_minor": 4
}
