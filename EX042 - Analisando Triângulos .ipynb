{
 "cells": [
  {
   "cell_type": "code",
   "execution_count": 1,
   "metadata": {},
   "outputs": [
    {
     "name": "stdout",
     "output_type": "stream",
     "text": [
      "Primeiro Segmento: 4\n",
      "Segundo Segmento: 5\n",
      "Terceiro Segmento: 7\n",
      "Os lados informados PODEM FORMAR UM TRIANGULO\n",
      "O Trinagulo é ESCALENO\n"
     ]
    }
   ],
   "source": [
    "h=float(input('Primeiro Segmento: '))\n",
    "c=float(input('Segundo Segmento: '))\n",
    "d=float(input('Terceiro Segmento: '))\n",
    "if h<c+d and c<h+d and d<c+h:\n",
    "    print('Os lados informados PODEM FORMAR UM TRIANGULO')\n",
    "    if h == c and h == d:\n",
    "        print('O Trinagulo é EQUILATERO')\n",
    "    elif h==c or h==d:\n",
    "        print('O Triangulo é ISOCELES')\n",
    "    else:\n",
    "        print('O Trinagulo é ESCALENO')\n",
    "else:\n",
    "    print('Os lados informados NÃO PODEM FORMAR UM TRIANGULO')"
   ]
  },
  {
   "cell_type": "code",
   "execution_count": null,
   "metadata": {},
   "outputs": [],
   "source": []
  }
 ],
 "metadata": {
  "kernelspec": {
   "display_name": "Python 3",
   "language": "python",
   "name": "python3"
  },
  "language_info": {
   "codemirror_mode": {
    "name": "ipython",
    "version": 3
   },
   "file_extension": ".py",
   "mimetype": "text/x-python",
   "name": "python",
   "nbconvert_exporter": "python",
   "pygments_lexer": "ipython3",
   "version": "3.8.3"
  }
 },
 "nbformat": 4,
 "nbformat_minor": 4
}
