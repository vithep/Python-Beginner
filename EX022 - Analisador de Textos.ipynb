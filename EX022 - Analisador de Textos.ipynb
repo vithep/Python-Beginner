{
 "cells": [
  {
   "cell_type": "code",
   "execution_count": 1,
   "metadata": {},
   "outputs": [
    {
     "name": "stdout",
     "output_type": "stream",
     "text": [
      "Qual o seu nome completo? Victor Henrique Pereira\n",
      "Analisando o seu nome ....\n",
      "Seu nome em minusculo é victor henrique pereira\n",
      "Seu nome em maiusculo é VICTOR HENRIQUE PEREIRA\n",
      "Seu nome tem ao todo 21 letras\n",
      "Seu primeiro nome tem 6 letras\n",
      "['Victor', 'Henrique', 'Pereira']\n"
     ]
    }
   ],
   "source": [
    "nome=str(input('Qual o seu nome completo? ')).strip()\n",
    "print('Analisando o seu nome ....')\n",
    "print('Seu nome em minusculo é {}'.format(nome.lower()))\n",
    "print('Seu nome em maiusculo é {}'.format(nome.upper()))\n",
    "print(\"Seu nome tem ao todo {} letras\".format(len(nome)-nome.count(' ')))\n",
    "print('Seu primeiro nome tem {} letras'.format(nome.find(' ')))\n",
    "separa=nome.split()\n",
    "print(separa)"
   ]
  },
  {
   "cell_type": "code",
   "execution_count": null,
   "metadata": {},
   "outputs": [],
   "source": []
  }
 ],
 "metadata": {
  "kernelspec": {
   "display_name": "Python 3",
   "language": "python",
   "name": "python3"
  },
  "language_info": {
   "codemirror_mode": {
    "name": "ipython",
    "version": 3
   },
   "file_extension": ".py",
   "mimetype": "text/x-python",
   "name": "python",
   "nbconvert_exporter": "python",
   "pygments_lexer": "ipython3",
   "version": "3.8.3"
  }
 },
 "nbformat": 4,
 "nbformat_minor": 4
}
