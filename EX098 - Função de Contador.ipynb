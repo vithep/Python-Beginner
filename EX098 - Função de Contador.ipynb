{
 "cells": [
  {
   "cell_type": "code",
   "execution_count": 1,
   "metadata": {},
   "outputs": [],
   "source": [
    "from time import sleep"
   ]
  },
  {
   "cell_type": "code",
   "execution_count": 2,
   "metadata": {},
   "outputs": [
    {
     "name": "stdout",
     "output_type": "stream",
     "text": [
      "-=-=-=-=-=-=-=-=-=-=-=-=-=-=-=-=-=-=-=-=\n",
      "Contagem de 1 até 10 de 1 em 1\n",
      "1 2 3 4 5 6 7 8 9 10 FIM!\n",
      "-=-=-=-=-=-=-=-=-=-=-=-=-=-=-=-=-=-=-=-=\n",
      "-=-=-=-=-=-=-=-=-=-=-=-=-=-=-=-=-=-=-=-=\n",
      "Contagem de 10 até 0 de 2 em 2\n",
      "10 8 6 4 2 0 FIM\n",
      "-=-=-=-=-=-=-=-=-=-=-=-=-=-=-=-=-=-=-=-=\n",
      "Agora é sua vez de personalizar a contagem!\n",
      "Inicio: 9\n",
      "Fim: 1\n",
      "Intervalo: 3\n",
      "-=-=-=-=-=-=-=-=-=-=-=-=-=-=-=-=-=-=-=-=\n",
      "Contagem de 9 até 1 de 3 em 3\n",
      "9 6 3 FIM\n",
      "-=-=-=-=-=-=-=-=-=-=-=-=-=-=-=-=-=-=-=-=\n"
     ]
    }
   ],
   "source": [
    "def contador (i,f,p):\n",
    "    print('-='*20)\n",
    "    print(f'Contagem de {i} até {f} de {p} em {p}')\n",
    "    sleep(2.5)\n",
    "    if p < 0:\n",
    "        p*=-1\n",
    "    if p == 0:\n",
    "        p *= 1\n",
    "    if i < f:\n",
    "        cont = i\n",
    "        while cont<= f:\n",
    "            print(f'{cont} ',end='',flush=True)\n",
    "            sleep(0.5)\n",
    "            cont +=p\n",
    "        print('FIM!')\n",
    "    else:\n",
    "        cont = i\n",
    "        while cont>= f:\n",
    "            print(f'{cont} ', end='', flush=True)\n",
    "            sleep(0.5)\n",
    "            cont -= p\n",
    "        print('FIM')\n",
    "    print('-='*20)\n",
    "\n",
    "contador(1,10,1)\n",
    "contador(10,0,2)\n",
    "print('Agora é sua vez de personalizar a contagem!')\n",
    "ini = int(input('Inicio: '))\n",
    "fim = int(input('Fim: '))\n",
    "passo = int(input('Intervalo: '))\n",
    "contador(ini,fim,passo)"
   ]
  },
  {
   "cell_type": "code",
   "execution_count": null,
   "metadata": {},
   "outputs": [],
   "source": []
  }
 ],
 "metadata": {
  "kernelspec": {
   "display_name": "Python 3",
   "language": "python",
   "name": "python3"
  },
  "language_info": {
   "codemirror_mode": {
    "name": "ipython",
    "version": 3
   },
   "file_extension": ".py",
   "mimetype": "text/x-python",
   "name": "python",
   "nbconvert_exporter": "python",
   "pygments_lexer": "ipython3",
   "version": "3.8.3"
  }
 },
 "nbformat": 4,
 "nbformat_minor": 4
}
