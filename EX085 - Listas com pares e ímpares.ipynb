{
 "cells": [
  {
   "cell_type": "code",
   "execution_count": 1,
   "metadata": {},
   "outputs": [
    {
     "name": "stdout",
     "output_type": "stream",
     "text": [
      "Digite o 0° valor: 2\n",
      "Digite o 1° valor: 5\n",
      "Digite o 2° valor: 7\n",
      "Digite o 3° valor: 9\n",
      "Digite o 4° valor: 0\n",
      "Digite o 5° valor: 5\n",
      "Digite o 6° valor: 6\n",
      "Os valores pares digitados foram: [0, 2, 6]\n",
      "Os valores impares digitados foram: [5, 5, 7, 9]\n"
     ]
    }
   ],
   "source": [
    "listap = []\n",
    "listai = []\n",
    "for i in range(0,7):\n",
    "    valor = (int(input(f'Digite o {i}° valor: ')))\n",
    "    if valor%2 == 0:\n",
    "        listap.append(valor)\n",
    "    else:\n",
    "        listai.append(valor)\n",
    "listap.sort()\n",
    "listai.sort()\n",
    "print(f'Os valores pares digitados foram: {listap}')\n",
    "print(f'Os valores impares digitados foram: {listai}')"
   ]
  },
  {
   "cell_type": "code",
   "execution_count": null,
   "metadata": {},
   "outputs": [],
   "source": []
  }
 ],
 "metadata": {
  "kernelspec": {
   "display_name": "Python 3",
   "language": "python",
   "name": "python3"
  },
  "language_info": {
   "codemirror_mode": {
    "name": "ipython",
    "version": 3
   },
   "file_extension": ".py",
   "mimetype": "text/x-python",
   "name": "python",
   "nbconvert_exporter": "python",
   "pygments_lexer": "ipython3",
   "version": "3.8.3"
  }
 },
 "nbformat": 4,
 "nbformat_minor": 4
}
