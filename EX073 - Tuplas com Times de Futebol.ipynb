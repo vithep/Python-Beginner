{
 "cells": [
  {
   "cell_type": "code",
   "execution_count": 1,
   "metadata": {},
   "outputs": [
    {
     "name": "stdout",
     "output_type": "stream",
     "text": [
      "-=-=-=-=-=-=-=-=-=-=\n",
      "Lista de times: ('São Paulo', 'Santos', 'Portuguesa', 'Berno', 'Inter', 'Gremio', 'Vasco', 'Sport', 'Ceara', 'Fortaleza', 'Chapecoense')\n",
      "-=-=-=-=-=-=-=-=-=-=\n",
      "Os cincos primeiros são ('São Paulo', 'Santos', 'Portuguesa', 'Berno', 'Inter')\n",
      "-=-=-=-=-=-=-=-=-=-=\n",
      "Os cincos ultimos são ('Vasco', 'Sport', 'Ceara', 'Fortaleza', 'Chapecoense')\n",
      "-=-=-=-=-=-=-=-=-=-=\n",
      "Times em ordem alfabetica: ['Berno', 'Ceara', 'Chapecoense', 'Fortaleza', 'Gremio', 'Inter', 'Portuguesa', 'Santos', 'Sport', 'São Paulo', 'Vasco']\n",
      "-=-=-=-=-=-=-=-=-=-=\n",
      "O Berno está na 4ª posição\n"
     ]
    }
   ],
   "source": [
    "times = ('São Paulo', 'Santos', 'Portuguesa', 'Berno', 'Inter', 'Gremio', 'Vasco', 'Sport', 'Ceara', 'Fortaleza', 'Chapecoense')\n",
    "print('-='*10)\n",
    "print(f'Lista de times: {times}')\n",
    "print('-='*10)\n",
    "print(f'Os cincos primeiros são {times[0:5]}')\n",
    "print('-='*10)\n",
    "print(f'Os cincos ultimos são {times[-5:]}')\n",
    "print('-='*10)\n",
    "print(f'Times em ordem alfabetica: {sorted(times)}')\n",
    "print('-='*10)\n",
    "print(f'O Berno está na {times.index(\"Berno\")+1}ª posição')"
   ]
  },
  {
   "cell_type": "code",
   "execution_count": null,
   "metadata": {},
   "outputs": [],
   "source": []
  }
 ],
 "metadata": {
  "kernelspec": {
   "display_name": "Python 3",
   "language": "python",
   "name": "python3"
  },
  "language_info": {
   "codemirror_mode": {
    "name": "ipython",
    "version": 3
   },
   "file_extension": ".py",
   "mimetype": "text/x-python",
   "name": "python",
   "nbconvert_exporter": "python",
   "pygments_lexer": "ipython3",
   "version": "3.8.3"
  }
 },
 "nbformat": 4,
 "nbformat_minor": 4
}
