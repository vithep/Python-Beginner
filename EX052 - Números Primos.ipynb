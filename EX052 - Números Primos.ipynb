{
 "cells": [
  {
   "cell_type": "code",
   "execution_count": 1,
   "metadata": {},
   "outputs": [
    {
     "name": "stdout",
     "output_type": "stream",
     "text": [
      "Digite um numero: 57\n",
      "\u001b[33m 1 \u001b[31m 2 \u001b[33m 3 \u001b[31m 4 \u001b[31m 5 \u001b[31m 6 \u001b[31m 7 \u001b[31m 8 \u001b[31m 9 \u001b[31m 10 \u001b[31m 11 \u001b[31m 12 \u001b[31m 13 \u001b[31m 14 \u001b[31m 15 \u001b[31m 16 \u001b[31m 17 \u001b[31m 18 \u001b[33m 19 \u001b[31m 20 \u001b[31m 21 \u001b[31m 22 \u001b[31m 23 \u001b[31m 24 \u001b[31m 25 \u001b[31m 26 \u001b[31m 27 \u001b[31m 28 \u001b[31m 29 \u001b[31m 30 \u001b[31m 31 \u001b[31m 32 \u001b[31m 33 \u001b[31m 34 \u001b[31m 35 \u001b[31m 36 \u001b[31m 37 \u001b[31m 38 \u001b[31m 39 \u001b[31m 40 \u001b[31m 41 \u001b[31m 42 \u001b[31m 43 \u001b[31m 44 \u001b[31m 45 \u001b[31m 46 \u001b[31m 47 \u001b[31m 48 \u001b[31m 49 \u001b[31m 50 \u001b[31m 51 \u001b[31m 52 \u001b[31m 53 \u001b[31m 54 \u001b[31m 55 \u001b[31m 56 \u001b[33m 57 \n",
      "\u001b[mO numero 57 foi divisivel 4 vezes\n"
     ]
    }
   ],
   "source": [
    "n=int(input('Digite um numero: '))\n",
    "tot = 0\n",
    "for i in range(1,n+1):\n",
    "    if n%i == 0:\n",
    "        print('\\033[33m', end=\" \")\n",
    "        tot += 1\n",
    "    else:\n",
    "        print('\\033[31m', end=\" \")\n",
    "    print('{}'.format(i), end=\" \")\n",
    "print('\\n\\033[mO numero {} foi divisivel {} vezes'.format(n,tot))\n",
    "if tot == 2:\n",
    "    print('É um numero PRIMO')"
   ]
  },
  {
   "cell_type": "code",
   "execution_count": null,
   "metadata": {},
   "outputs": [],
   "source": []
  }
 ],
 "metadata": {
  "kernelspec": {
   "display_name": "Python 3",
   "language": "python",
   "name": "python3"
  },
  "language_info": {
   "codemirror_mode": {
    "name": "ipython",
    "version": 3
   },
   "file_extension": ".py",
   "mimetype": "text/x-python",
   "name": "python",
   "nbconvert_exporter": "python",
   "pygments_lexer": "ipython3",
   "version": "3.8.3"
  }
 },
 "nbformat": 4,
 "nbformat_minor": 4
}
