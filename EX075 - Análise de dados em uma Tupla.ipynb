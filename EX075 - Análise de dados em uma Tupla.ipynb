{
 "cells": [
  {
   "cell_type": "code",
   "execution_count": 1,
   "metadata": {},
   "outputs": [
    {
     "name": "stdout",
     "output_type": "stream",
     "text": [
      "Digite um valor: 5\n",
      "Digite mais um valor: 3\n",
      "Digite outro valor: 9\n",
      "Digite mais um valor: 3\n",
      "Você digitou os valores (5, 3, 9, 3)\n",
      "O valor 9 apareceu 1 vezes\n",
      "O valor 3 apareceu na 2ª posição\n",
      "\n",
      "Não tem numero par\n"
     ]
    }
   ],
   "source": [
    "num = (int(input('Digite um valor: ')), int(input('Digite mais um valor: ')), int(input('Digite outro valor: ')), int(input('Digite mais um valor: ')))\n",
    "print(f'Você digitou os valores {num}')\n",
    "print(f'O valor 9 apareceu {num.count(9)} vezes')\n",
    "if 3 in num:\n",
    "    print(f'O valor 3 apareceu na {num.index(3)+1}ª posição')\n",
    "else:\n",
    "    print('Não foi encontrado o numero 3')\n",
    "for n in num:\n",
    "    if n%2 ==0:\n",
    "        print(f'Os valores pares digitados foram ', end='')\n",
    "        print(n, end=' ')\n",
    "print('\\nNão tem numero par')"
   ]
  },
  {
   "cell_type": "code",
   "execution_count": null,
   "metadata": {},
   "outputs": [],
   "source": []
  }
 ],
 "metadata": {
  "kernelspec": {
   "display_name": "Python 3",
   "language": "python",
   "name": "python3"
  },
  "language_info": {
   "codemirror_mode": {
    "name": "ipython",
    "version": 3
   },
   "file_extension": ".py",
   "mimetype": "text/x-python",
   "name": "python",
   "nbconvert_exporter": "python",
   "pygments_lexer": "ipython3",
   "version": "3.8.3"
  }
 },
 "nbformat": 4,
 "nbformat_minor": 4
}
