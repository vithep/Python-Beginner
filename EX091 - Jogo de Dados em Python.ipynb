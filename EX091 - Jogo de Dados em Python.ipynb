{
 "cells": [
  {
   "cell_type": "code",
   "execution_count": 1,
   "metadata": {},
   "outputs": [],
   "source": [
    "from random import randint\n",
    "from time import sleep\n",
    "from operator import itemgetter"
   ]
  },
  {
   "cell_type": "code",
   "execution_count": 2,
   "metadata": {},
   "outputs": [
    {
     "name": "stdout",
     "output_type": "stream",
     "text": [
      "Valores sorteados: \n",
      "jogador 1 tirou 1 no dado.\n",
      "jogador 2 tirou 2 no dado.\n",
      "jogador 3 tirou 4 no dado.\n",
      "jogador 4 tirou 4 no dado.\n",
      "-=-=-=-=-=-=-=-=-=-=\n",
      "1º lugar: jogador 3 com 4.\n",
      "2º lugar: jogador 4 com 4.\n",
      "3º lugar: jogador 2 com 2.\n",
      "4º lugar: jogador 1 com 1.\n"
     ]
    }
   ],
   "source": [
    "jogo = {'jogador 1':randint(1,6), 'jogador 2':randint(1,6), 'jogador 3':randint(1,6), 'jogador 4':randint(1,6)}\n",
    "print('Valores sorteados: ')\n",
    "ranking = []\n",
    "for k,v in jogo.items():\n",
    "    print(f'{k} tirou {v} no dado.')\n",
    "    sleep(1)\n",
    "ranking = sorted(jogo.items(), key=itemgetter(1), reverse = True)\n",
    "print('-='*10)\n",
    "for i,v in enumerate(ranking):\n",
    "    print(f'{i+1}º lugar: {v[0]} com {v[1]}.')\n",
    "    sleep(1)"
   ]
  },
  {
   "cell_type": "code",
   "execution_count": null,
   "metadata": {},
   "outputs": [],
   "source": []
  }
 ],
 "metadata": {
  "kernelspec": {
   "display_name": "Python 3",
   "language": "python",
   "name": "python3"
  },
  "language_info": {
   "codemirror_mode": {
    "name": "ipython",
    "version": 3
   },
   "file_extension": ".py",
   "mimetype": "text/x-python",
   "name": "python",
   "nbconvert_exporter": "python",
   "pygments_lexer": "ipython3",
   "version": "3.8.3"
  }
 },
 "nbformat": 4,
 "nbformat_minor": 4
}
