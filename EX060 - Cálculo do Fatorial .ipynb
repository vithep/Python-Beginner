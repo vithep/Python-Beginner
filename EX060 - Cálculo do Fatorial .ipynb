{
 "cells": [
  {
   "cell_type": "code",
   "execution_count": 1,
   "metadata": {},
   "outputs": [
    {
     "name": "stdout",
     "output_type": "stream",
     "text": [
      "Digite um numero para calcular seu fatorial: 5\n",
      "Calculando 5! = 5 x 4 x 3 x 2 x 1 = 120\n"
     ]
    }
   ],
   "source": [
    "n=int(input('Digite um numero para calcular seu fatorial: '))\n",
    "c = n\n",
    "f=1\n",
    "print('Calculando {}! = '.format(n),end=\"\")\n",
    "while c>0:\n",
    "    print('{}'.format(c), end='')\n",
    "    print(' x ' if c > 1 else ' = ', end='')\n",
    "    f *=c\n",
    "    c -=1\n",
    "print('{}'.format(f))"
   ]
  },
  {
   "cell_type": "code",
   "execution_count": null,
   "metadata": {},
   "outputs": [],
   "source": []
  }
 ],
 "metadata": {
  "kernelspec": {
   "display_name": "Python 3",
   "language": "python",
   "name": "python3"
  },
  "language_info": {
   "codemirror_mode": {
    "name": "ipython",
    "version": 3
   },
   "file_extension": ".py",
   "mimetype": "text/x-python",
   "name": "python",
   "nbconvert_exporter": "python",
   "pygments_lexer": "ipython3",
   "version": "3.8.3"
  }
 },
 "nbformat": 4,
 "nbformat_minor": 4
}
