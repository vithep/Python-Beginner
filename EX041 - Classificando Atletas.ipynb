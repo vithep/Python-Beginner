{
 "cells": [
  {
   "cell_type": "code",
   "execution_count": 1,
   "metadata": {},
   "outputs": [],
   "source": [
    "from datetime import date"
   ]
  },
  {
   "cell_type": "code",
   "execution_count": 2,
   "metadata": {},
   "outputs": [
    {
     "name": "stdout",
     "output_type": "stream",
     "text": [
      "Ano de nascimento: 1995\n",
      "Tem idade igual 26, assim Classificação:MASTER\n"
     ]
    }
   ],
   "source": [
    "id=int(input('Ano de nascimento: '))\n",
    "ano=date.today().year\n",
    "idade=ano-id\n",
    "if idade<9:\n",
    "    print('Tem idade igual {}, assim Classificação:MIRIM'.format(idade))\n",
    "elif idade>=9 and idade<14:\n",
    "    print('Tem idade igual {}, assim Classificação:INFANTIL'.format(idade))\n",
    "elif idade>=14 and idade<19:\n",
    "    print('Tem idade igual {}, assim Classificação:JÚNIOR'.format(idade))\n",
    "elif idade>=19 and idade<25:\n",
    "    print('Tem idade igual {}, assim Classificação:SÊNIOR'.format(idade))\n",
    "else:\n",
    "    print('Tem idade igual {}, assim Classificação:MASTER'.format(idade))"
   ]
  },
  {
   "cell_type": "code",
   "execution_count": null,
   "metadata": {},
   "outputs": [],
   "source": []
  }
 ],
 "metadata": {
  "kernelspec": {
   "display_name": "Python 3",
   "language": "python",
   "name": "python3"
  },
  "language_info": {
   "codemirror_mode": {
    "name": "ipython",
    "version": 3
   },
   "file_extension": ".py",
   "mimetype": "text/x-python",
   "name": "python",
   "nbconvert_exporter": "python",
   "pygments_lexer": "ipython3",
   "version": "3.8.3"
  }
 },
 "nbformat": 4,
 "nbformat_minor": 4
}
