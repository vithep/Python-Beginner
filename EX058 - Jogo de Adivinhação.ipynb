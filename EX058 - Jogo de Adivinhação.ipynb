{
 "cells": [
  {
   "cell_type": "code",
   "execution_count": 1,
   "metadata": {},
   "outputs": [],
   "source": [
    "from random import randint"
   ]
  },
  {
   "cell_type": "code",
   "execution_count": 2,
   "metadata": {},
   "outputs": [
    {
     "name": "stdout",
     "output_type": "stream",
     "text": [
      "Sou seu computador...\n",
      "Acabei de pensar em um número entre 0 e 10.\n",
      "Será que você consegue adivinhar qual foi?\n",
      "Qual é o seu palpite? 6\n",
      "Menos... Tente mais uma vez\n",
      "Qual é o seu palpite? 3\n",
      "Menos... Tente mais uma vez\n",
      "Qual é o seu palpite? 1\n",
      "Menos... Tente mais uma vez\n",
      "Qual é o seu palpite? 0\n",
      "Acertou!! Precisou de 4 tentativas\n"
     ]
    }
   ],
   "source": [
    "comp = randint(0,10)\n",
    "print('''Sou seu computador...\n",
    "Acabei de pensar em um número entre 0 e 10.\n",
    "Será que você consegue adivinhar qual foi?''')\n",
    "acertou = False\n",
    "pal = 0\n",
    "while not acertou:\n",
    "    v=int(input('Qual é o seu palpite? '))\n",
    "    pal +=1\n",
    "    if v == comp:\n",
    "        acertou = True\n",
    "    else:\n",
    "        if v < comp:\n",
    "            print('Mais... Tente mais uma vez')\n",
    "        elif v > comp:\n",
    "            print('Menos... Tente mais uma vez')\n",
    "print('Acertou!! Precisou de {} tentativas'.format(pal))"
   ]
  },
  {
   "cell_type": "code",
   "execution_count": null,
   "metadata": {},
   "outputs": [],
   "source": []
  }
 ],
 "metadata": {
  "kernelspec": {
   "display_name": "Python 3",
   "language": "python",
   "name": "python3"
  },
  "language_info": {
   "codemirror_mode": {
    "name": "ipython",
    "version": 3
   },
   "file_extension": ".py",
   "mimetype": "text/x-python",
   "name": "python",
   "nbconvert_exporter": "python",
   "pygments_lexer": "ipython3",
   "version": "3.8.3"
  }
 },
 "nbformat": 4,
 "nbformat_minor": 4
}
