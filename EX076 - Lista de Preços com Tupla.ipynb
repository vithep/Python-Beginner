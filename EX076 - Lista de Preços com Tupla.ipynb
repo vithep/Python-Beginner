{
 "cells": [
  {
   "cell_type": "code",
   "execution_count": 1,
   "metadata": {},
   "outputs": [
    {
     "name": "stdout",
     "output_type": "stream",
     "text": [
      "========================================\n",
      "            Loja do Pereira             \n",
      "========================================\n",
      "Lapis.........................R$    3.45\n",
      "Borracha......................R$    1.50\n",
      "Pasta.........................R$    3.90\n",
      "Livro.........................R$    7.90\n",
      "Caderno.......................R$   15.90\n",
      "Caneta........................R$    3.10\n"
     ]
    }
   ],
   "source": [
    "produto = ('Lapis', 3.45, 'Borracha', 1.50, 'Pasta', 3.90,'Livro', 7.90,'Caderno', 15.90, 'Caneta',3.10)\n",
    "print('='*40)\n",
    "print(f'{\"Loja do Pereira\":^40}')\n",
    "print('='*40)\n",
    "for pos in range (0, len(produto)):\n",
    "    if pos%2==0:\n",
    "        print(f'{produto[pos]:.<30}',end='')\n",
    "    else:\n",
    "        print(f'R$ {produto[pos]:>7.2f}')"
   ]
  },
  {
   "cell_type": "code",
   "execution_count": null,
   "metadata": {},
   "outputs": [],
   "source": []
  }
 ],
 "metadata": {
  "kernelspec": {
   "display_name": "Python 3",
   "language": "python",
   "name": "python3"
  },
  "language_info": {
   "codemirror_mode": {
    "name": "ipython",
    "version": 3
   },
   "file_extension": ".py",
   "mimetype": "text/x-python",
   "name": "python",
   "nbconvert_exporter": "python",
   "pygments_lexer": "ipython3",
   "version": "3.8.3"
  }
 },
 "nbformat": 4,
 "nbformat_minor": 4
}
