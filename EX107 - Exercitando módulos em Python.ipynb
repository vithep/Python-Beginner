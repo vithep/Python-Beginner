{
 "cells": [
  {
   "cell_type": "code",
   "execution_count": 1,
   "metadata": {},
   "outputs": [],
   "source": [
    "def aumentar(preço, taxa):\n",
    "    res = preço + (preço * taxa/100)\n",
    "    return res\n",
    "\n",
    "def diminuir(preço, taxa):\n",
    "    res =  preço - (preço * taxa / 100)\n",
    "    return res\n",
    "\n",
    "def dobro(preço):\n",
    "    res = preço*2\n",
    "    return res\n",
    "\n",
    "def metade(preço):\n",
    "    res = preço / 2\n",
    "    return res"
   ]
  },
  {
   "cell_type": "code",
   "execution_count": 3,
   "metadata": {},
   "outputs": [
    {
     "name": "stdout",
     "output_type": "stream",
     "text": [
      "Digite o preço: R$5\n",
      "A metade de 5.0 é 2.5\n",
      "O dobro de 5.0 é 10.0\n",
      "Aumentando 10%, temos R$5.5\n",
      "Diminuindo 10%, temos R$4.5\n"
     ]
    }
   ],
   "source": [
    "p = float(input('Digite o preço: R$'))\n",
    "print(f'A metade de {p} é {metade(p)}')\n",
    "print(f'O dobro de {p} é {dobro(p)}')\n",
    "print(f'Aumentando 10%, temos R${aumentar(p, 10)}')\n",
    "print(f'Diminuindo 10%, temos R${diminuir(p, 10)}')\n"
   ]
  },
  {
   "cell_type": "code",
   "execution_count": null,
   "metadata": {},
   "outputs": [],
   "source": []
  }
 ],
 "metadata": {
  "kernelspec": {
   "display_name": "Python 3",
   "language": "python",
   "name": "python3"
  },
  "language_info": {
   "codemirror_mode": {
    "name": "ipython",
    "version": 3
   },
   "file_extension": ".py",
   "mimetype": "text/x-python",
   "name": "python",
   "nbconvert_exporter": "python",
   "pygments_lexer": "ipython3",
   "version": "3.8.3"
  }
 },
 "nbformat": 4,
 "nbformat_minor": 4
}
