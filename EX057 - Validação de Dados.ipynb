{
 "cells": [
  {
   "cell_type": "code",
   "execution_count": 1,
   "metadata": {},
   "outputs": [
    {
     "name": "stdout",
     "output_type": "stream",
     "text": [
      "Informe o sexo [M/F]: M\n",
      "Sexo M registrado com sucesso.\n"
     ]
    }
   ],
   "source": [
    "s=str(input('Informe o sexo [M/F]: ')).strip().upper()[0]\n",
    "while s not in 'MmFf':\n",
    "    sexo = str(input('Dados invalidos. Por Favor, informe seu sexo: ')).strip().upper()[0]\n",
    "print('Sexo {} registrado com sucesso.'.format(s))"
   ]
  },
  {
   "cell_type": "code",
   "execution_count": null,
   "metadata": {},
   "outputs": [],
   "source": []
  }
 ],
 "metadata": {
  "kernelspec": {
   "display_name": "Python 3",
   "language": "python",
   "name": "python3"
  },
  "language_info": {
   "codemirror_mode": {
    "name": "ipython",
    "version": 3
   },
   "file_extension": ".py",
   "mimetype": "text/x-python",
   "name": "python",
   "nbconvert_exporter": "python",
   "pygments_lexer": "ipython3",
   "version": "3.8.3"
  }
 },
 "nbformat": 4,
 "nbformat_minor": 4
}
