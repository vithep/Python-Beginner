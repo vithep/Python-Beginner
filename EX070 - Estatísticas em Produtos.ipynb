{
 "cells": [
  {
   "cell_type": "code",
   "execution_count": 1,
   "metadata": {},
   "outputs": [
    {
     "name": "stdout",
     "output_type": "stream",
     "text": [
      "Nome do Produto: Lapis\n",
      "Preço: R$1.50\n",
      "Quer continuar [S/N]: n\n",
      "FIM DO PROGRAMA\n",
      "O total da compra foi R$1.50\n",
      "Temos 0 custando mais que R$ 1000.00\n",
      "O produto com menor preço é Lapis que custa R$1.50\n"
     ]
    }
   ],
   "source": [
    "total = totmil = menor = cont = 0\n",
    "barato = \" \"\n",
    "while True:\n",
    "    produto= str(input('Nome do Produto: '))\n",
    "    preco= float(input('Preço: R$'))\n",
    "    cont +=1\n",
    "    total +=preco\n",
    "    if preco > 1000:\n",
    "        totmil +=1\n",
    "    if cont == 1:\n",
    "        menor = preco\n",
    "        barato = produto\n",
    "    resp = ' '\n",
    "    while resp not in 'SN':\n",
    "        resp = str(input('Quer continuar [S/N]: ')).strip().upper()[0]\n",
    "    if resp == 'N':\n",
    "        break\n",
    "print('FIM DO PROGRAMA')\n",
    "print(f'O total da compra foi R${total:.2f}')\n",
    "print(f'Temos {totmil} custando mais que R$ 1000.00')\n",
    "print(f'O produto com menor preço é {produto} que custa R${menor:.2f}')"
   ]
  },
  {
   "cell_type": "code",
   "execution_count": null,
   "metadata": {},
   "outputs": [],
   "source": []
  }
 ],
 "metadata": {
  "kernelspec": {
   "display_name": "Python 3",
   "language": "python",
   "name": "python3"
  },
  "language_info": {
   "codemirror_mode": {
    "name": "ipython",
    "version": 3
   },
   "file_extension": ".py",
   "mimetype": "text/x-python",
   "name": "python",
   "nbconvert_exporter": "python",
   "pygments_lexer": "ipython3",
   "version": "3.8.3"
  }
 },
 "nbformat": 4,
 "nbformat_minor": 4
}
