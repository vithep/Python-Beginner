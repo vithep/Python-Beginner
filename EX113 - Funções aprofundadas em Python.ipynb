{
 "cells": [
  {
   "cell_type": "code",
   "execution_count": 1,
   "metadata": {},
   "outputs": [
    {
     "name": "stdout",
     "output_type": "stream",
     "text": [
      "Digite um valor Inteiro: 5\n",
      "Digite um valor real: 2\n",
      "O valor digitado foi 5 e o 2.0\n"
     ]
    }
   ],
   "source": [
    "def leiaInt(msg):\n",
    "    while True:\n",
    "        try:\n",
    "            n = int(input(msg))\n",
    "        except (ValueError, TypeError):\n",
    "            print('\\033[31mERRO! Por favor, digite um numero inteiro valido.\\033[m')\n",
    "            continue\n",
    "        except (KeyboardInterrupt):\n",
    "            print('\\033[31mEntrada de dados interrompida pelo usuario.\\033[m')\n",
    "            return 0\n",
    "        else:\n",
    "            return n\n",
    "\n",
    "def leiaFloat(msg):\n",
    "    while True:\n",
    "        try:\n",
    "            n = float(input(msg))\n",
    "        except (ValueError, TypeError):\n",
    "            print('\\033[31mERRO! Por favor, digite um numero inteiro valido.\\033[m')\n",
    "            continue\n",
    "        except (KeyboardInterrupt):\n",
    "            print('\\033[31mEntrada de dados interrompida pelo usuario.\\033[m')\n",
    "            return 0\n",
    "        else:\n",
    "            return n\n",
    "\n",
    "num = leiaInt('Digite um valor Inteiro: ')\n",
    "num2 = leiaFloat('Digite um valor real: ')\n",
    "print(f'O valor digitado foi {num} e o {num2}')"
   ]
  },
  {
   "cell_type": "code",
   "execution_count": null,
   "metadata": {},
   "outputs": [],
   "source": []
  }
 ],
 "metadata": {
  "kernelspec": {
   "display_name": "Python 3",
   "language": "python",
   "name": "python3"
  },
  "language_info": {
   "codemirror_mode": {
    "name": "ipython",
    "version": 3
   },
   "file_extension": ".py",
   "mimetype": "text/x-python",
   "name": "python",
   "nbconvert_exporter": "python",
   "pygments_lexer": "ipython3",
   "version": "3.8.3"
  }
 },
 "nbformat": 4,
 "nbformat_minor": 4
}
