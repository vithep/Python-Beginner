{
 "cells": [
  {
   "cell_type": "code",
   "execution_count": 1,
   "metadata": {},
   "outputs": [
    {
     "name": "stdout",
     "output_type": "stream",
     "text": [
      "Digite um valor para a posição 0: 5\n",
      "Digite um valor para a posição 1: 3\n",
      "Digite um valor para a posição 2: 7\n",
      "Digite um valor para a posição 3: 0\n",
      "Digite um valor para a posição 4: 1\n",
      "Você digitou os valores [5, 3, 7, 0, 1]\n",
      "O maior valor digitado foi o 7 na posição 2...\n",
      "O menor valor digitado foi o 0 na posição 3..."
     ]
    }
   ],
   "source": [
    "lista = []\n",
    "menor = 0\n",
    "posim = posin = 0\n",
    "maior = 0\n",
    "for v in range(0,5):\n",
    "    lista.append(int(input(f'Digite um valor para a posição {v}: ')))\n",
    "    if v == 0:\n",
    "        maior = lista[v]\n",
    "        menor = lista[v]\n",
    "    else:\n",
    "        if lista[v]>maior:\n",
    "            maior=lista[v]\n",
    "        if lista[v]<menor:\n",
    "            menor=lista[v]\n",
    "print(f'Você digitou os valores {lista}')\n",
    "print(f'O maior valor digitado foi o {maior} na posição ', end='')\n",
    "for i,c in enumerate(lista):\n",
    "    if c == maior:\n",
    "        print(f'{i}...', end='')\n",
    "print(f'\\nO menor valor digitado foi o {menor} na posição ', end='')\n",
    "for j,t in enumerate(lista):\n",
    "    if t == menor:\n",
    "        print(f'{j}...', end='')"
   ]
  },
  {
   "cell_type": "code",
   "execution_count": null,
   "metadata": {},
   "outputs": [],
   "source": []
  }
 ],
 "metadata": {
  "kernelspec": {
   "display_name": "Python 3",
   "language": "python",
   "name": "python3"
  },
  "language_info": {
   "codemirror_mode": {
    "name": "ipython",
    "version": 3
   },
   "file_extension": ".py",
   "mimetype": "text/x-python",
   "name": "python",
   "nbconvert_exporter": "python",
   "pygments_lexer": "ipython3",
   "version": "3.8.3"
  }
 },
 "nbformat": 4,
 "nbformat_minor": 4
}
