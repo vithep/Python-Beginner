{
 "cells": [
  {
   "cell_type": "code",
   "execution_count": 1,
   "metadata": {},
   "outputs": [
    {
     "name": "stdout",
     "output_type": "stream",
     "text": [
      "Qual o peso da 1ª pessoa? 80\n",
      "Qual o peso da 2ª pessoa? 84\n",
      "Qual o peso da 3ª pessoa? 55\n",
      "Qual o peso da 4ª pessoa? 90\n",
      "Qual o peso da 5ª pessoa? 105\n",
      "O maior peso lido foi de 105.0kg\n",
      "O menor peso lido foi de 55.0kg\n"
     ]
    }
   ],
   "source": [
    "maior = 0\n",
    "menor = 0\n",
    "for pessoa in range (1,6):\n",
    "    peso=float(input('Qual o peso da {}ª pessoa? '.format(pessoa)))\n",
    "    if pessoa == 1:\n",
    "        maior = peso\n",
    "        menor = peso\n",
    "    else:\n",
    "        if peso>maior:\n",
    "            maior = peso\n",
    "        if peso<menor:\n",
    "            menor = peso\n",
    "print('O maior peso lido foi de {}kg'.format(maior))\n",
    "print('O menor peso lido foi de {}kg'.format(menor))"
   ]
  },
  {
   "cell_type": "code",
   "execution_count": null,
   "metadata": {},
   "outputs": [],
   "source": []
  }
 ],
 "metadata": {
  "kernelspec": {
   "display_name": "Python 3",
   "language": "python",
   "name": "python3"
  },
  "language_info": {
   "codemirror_mode": {
    "name": "ipython",
    "version": 3
   },
   "file_extension": ".py",
   "mimetype": "text/x-python",
   "name": "python",
   "nbconvert_exporter": "python",
   "pygments_lexer": "ipython3",
   "version": "3.8.3"
  }
 },
 "nbformat": 4,
 "nbformat_minor": 4
}
