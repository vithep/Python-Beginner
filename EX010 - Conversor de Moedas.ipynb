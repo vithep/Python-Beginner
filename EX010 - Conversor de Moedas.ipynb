{
 "cells": [
  {
   "cell_type": "code",
   "execution_count": 2,
   "metadata": {},
   "outputs": [
    {
     "name": "stdout",
     "output_type": "stream",
     "text": [
      "Quanto dinheiro você tem em dinheiro? R$13.50\n",
      "Com R$13.5 você pode comprar U$2.62\n"
     ]
    }
   ],
   "source": [
    "d=float(input('Quanto dinheiro você tem em dinheiro? R$'))\n",
    "dolar=5.15\n",
    "print('Com R${} você pode comprar U${:.2f}'.format(d,d/dolar))"
   ]
  },
  {
   "cell_type": "code",
   "execution_count": null,
   "metadata": {},
   "outputs": [],
   "source": []
  }
 ],
 "metadata": {
  "kernelspec": {
   "display_name": "Python 3",
   "language": "python",
   "name": "python3"
  },
  "language_info": {
   "codemirror_mode": {
    "name": "ipython",
    "version": 3
   },
   "file_extension": ".py",
   "mimetype": "text/x-python",
   "name": "python",
   "nbconvert_exporter": "python",
   "pygments_lexer": "ipython3",
   "version": "3.8.3"
  }
 },
 "nbformat": 4,
 "nbformat_minor": 4
}
