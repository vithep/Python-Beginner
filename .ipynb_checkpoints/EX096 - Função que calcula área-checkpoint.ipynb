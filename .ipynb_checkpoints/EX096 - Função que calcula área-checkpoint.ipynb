{
 "cells": [
  {
   "cell_type": "code",
   "execution_count": 1,
   "metadata": {},
   "outputs": [
    {
     "name": "stdout",
     "output_type": "stream",
     "text": [
      "Controle de Terrenos\n",
      "---------------\n",
      "Largura (m): 5\n",
      "Comprimento (m): 2\n",
      "A área de um terreno 5.0 x 2.0 é de 10.0m²\n"
     ]
    }
   ],
   "source": [
    "def area(x,y):\n",
    "    a = x * y\n",
    "    print(f'A área de um terreno {x} x {y} é de {a}m²')\n",
    "\n",
    "print('Controle de Terrenos')\n",
    "print('-'*15)\n",
    "l = float(input('Largura (m): '))\n",
    "c = float(input('Comprimento (m): '))\n",
    "area(l,c)"
   ]
  },
  {
   "cell_type": "code",
   "execution_count": null,
   "metadata": {},
   "outputs": [],
   "source": []
  }
 ],
 "metadata": {
  "kernelspec": {
   "display_name": "Python 3",
   "language": "python",
   "name": "python3"
  },
  "language_info": {
   "codemirror_mode": {
    "name": "ipython",
    "version": 3
   },
   "file_extension": ".py",
   "mimetype": "text/x-python",
   "name": "python",
   "nbconvert_exporter": "python",
   "pygments_lexer": "ipython3",
   "version": "3.8.3"
  }
 },
 "nbformat": 4,
 "nbformat_minor": 4
}
