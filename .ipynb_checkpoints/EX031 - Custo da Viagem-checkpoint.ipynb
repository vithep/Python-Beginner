{
 "cells": [
  {
   "cell_type": "code",
   "execution_count": 1,
   "metadata": {},
   "outputs": [
    {
     "name": "stdout",
     "output_type": "stream",
     "text": [
      "Digite a distancia da viagem: 203\n",
      "A viagem tem uma distancia total de 203\n",
      "O preço da viagem é de R$91.35\n",
      "Boa Viagem!!!\n"
     ]
    }
   ],
   "source": [
    "d=int(input('Digite a distancia da viagem: '))\n",
    "print('A viagem tem uma distancia total de {}'.format(d))\n",
    "if d <= 200:\n",
    "    print('O preço da viagem é de R${:.2f}'.format(d * 0.5))\n",
    "else:\n",
    "    print('O preço da viagem é de R${:.2f}'.format(d * 0.45))\n",
    "print('Boa Viagem!!!')"
   ]
  },
  {
   "cell_type": "code",
   "execution_count": null,
   "metadata": {},
   "outputs": [],
   "source": []
  }
 ],
 "metadata": {
  "kernelspec": {
   "display_name": "Python 3",
   "language": "python",
   "name": "python3"
  },
  "language_info": {
   "codemirror_mode": {
    "name": "ipython",
    "version": 3
   },
   "file_extension": ".py",
   "mimetype": "text/x-python",
   "name": "python",
   "nbconvert_exporter": "python",
   "pygments_lexer": "ipython3",
   "version": "3.8.3"
  }
 },
 "nbformat": 4,
 "nbformat_minor": 4
}
