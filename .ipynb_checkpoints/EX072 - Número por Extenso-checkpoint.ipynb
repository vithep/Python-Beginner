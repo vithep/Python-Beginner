{
 "cells": [
  {
   "cell_type": "code",
   "execution_count": 1,
   "metadata": {},
   "outputs": [
    {
     "name": "stdout",
     "output_type": "stream",
     "text": [
      "Digite um numero entre 0 e 10: 7\n",
      "O numero escolhido foi o 7, que escrito é sete\n",
      "Quer continuar [S/N]: s\n",
      "Digite um numero entre 0 e 10: 1\n",
      "O numero escolhido foi o 1, que escrito é um\n",
      "Quer continuar [S/N]: n\n",
      "FIM\n"
     ]
    }
   ],
   "source": [
    "cont = ('zero','um','dois','três','quatro','cinco','seis','sete','oito','nove','dez')\n",
    "while True:\n",
    "    n=int(input('Digite um numero entre 0 e 10: '))\n",
    "    if 0 == n or n >= 10:\n",
    "        print('Tente novamente.')\n",
    "    print(f'O numero escolhido foi o {n}, que escrito é {cont[n]}')\n",
    "    resp = ' '\n",
    "    while resp not in 'SN':\n",
    "        resp = str(input('Quer continuar [S/N]: ')).strip().upper()[0]\n",
    "    if resp == \"N\":\n",
    "        break\n",
    "print(f'FIM')"
   ]
  },
  {
   "cell_type": "code",
   "execution_count": null,
   "metadata": {},
   "outputs": [],
   "source": []
  }
 ],
 "metadata": {
  "kernelspec": {
   "display_name": "Python 3",
   "language": "python",
   "name": "python3"
  },
  "language_info": {
   "codemirror_mode": {
    "name": "ipython",
    "version": 3
   },
   "file_extension": ".py",
   "mimetype": "text/x-python",
   "name": "python",
   "nbconvert_exporter": "python",
   "pygments_lexer": "ipython3",
   "version": "3.8.3"
  }
 },
 "nbformat": 4,
 "nbformat_minor": 4
}
