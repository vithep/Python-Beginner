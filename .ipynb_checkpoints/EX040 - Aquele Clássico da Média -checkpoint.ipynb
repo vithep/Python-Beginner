{
 "cells": [
  {
   "cell_type": "code",
   "execution_count": 1,
   "metadata": {},
   "outputs": [
    {
     "name": "stdout",
     "output_type": "stream",
     "text": [
      "Digite a sua primeira nota: 7\n",
      "Digite a sua segunda nota: 4\n",
      "Você tem nota media de 5.5, com isso você está de \u001b[1;34;45mRECUPERAÇÃO\u001b[m\n"
     ]
    }
   ],
   "source": [
    "n1=float(input('Digite a sua primeira nota: '))\n",
    "n2=float(input('Digite a sua segunda nota: '))\n",
    "media=(n1+n2)/2\n",
    "if media<5:\n",
    "    print('Você tem nota media de {}, com isso você está \\033[1;32;44mREPROVADO\\033[m'.format(media))\n",
    "elif media>=5 and media<=7:\n",
    "    print('Você tem nota media de {}, com isso você está de \\033[1;34;45mRECUPERAÇÃO\\033[m'.format(media))\n",
    "else:\n",
    "    print('Você tem nota media de {}, com isso você está \\033[2;33;43mAPROVADO\\033[m'.format(media))"
   ]
  },
  {
   "cell_type": "code",
   "execution_count": null,
   "metadata": {},
   "outputs": [],
   "source": []
  }
 ],
 "metadata": {
  "kernelspec": {
   "display_name": "Python 3",
   "language": "python",
   "name": "python3"
  },
  "language_info": {
   "codemirror_mode": {
    "name": "ipython",
    "version": 3
   },
   "file_extension": ".py",
   "mimetype": "text/x-python",
   "name": "python",
   "nbconvert_exporter": "python",
   "pygments_lexer": "ipython3",
   "version": "3.8.3"
  }
 },
 "nbformat": 4,
 "nbformat_minor": 4
}
