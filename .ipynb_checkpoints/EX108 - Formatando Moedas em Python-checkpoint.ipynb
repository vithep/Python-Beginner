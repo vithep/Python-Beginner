{
 "cells": [
  {
   "cell_type": "code",
   "execution_count": 1,
   "metadata": {},
   "outputs": [],
   "source": [
    "def aumentar(preço=0, taxa=0):\n",
    "    res = preço + (preço * taxa/100)\n",
    "    return res\n",
    "\n",
    "def diminuir(preço=0, taxa=0):\n",
    "    res =  preço - (preço * taxa / 100)\n",
    "    return res\n",
    "\n",
    "def dobro(preço=0):\n",
    "    res = preço*2\n",
    "    return res\n",
    "\n",
    "def metade(preço=0):\n",
    "    res = preço / 2\n",
    "    return res\n",
    "\n",
    "def moeda(preço=0, moeda='R$'):\n",
    "    return f'{moeda}{preço:>8.2f}'.replace('.',',')"
   ]
  },
  {
   "cell_type": "code",
   "execution_count": 2,
   "metadata": {},
   "outputs": [
    {
     "name": "stdout",
     "output_type": "stream",
     "text": [
      "Digite o preço: R$7\n",
      "A metade de R$    7,00 é 3.5\n",
      "O dobro de R$    7,00 é 14.0\n",
      "Aumentando 10%, temos R$7.7\n",
      "Diminuindo 10%, temos R$6.3\n"
     ]
    }
   ],
   "source": [
    "p = float(input('Digite o preço: R$'))\n",
    "print(f'A metade de {moeda(p)} é {metade(p)}')\n",
    "print(f'O dobro de {moeda(p)} é {dobro(p)}')\n",
    "print(f'Aumentando 10%, temos R${aumentar(p, 10)}')\n",
    "print(f'Diminuindo 10%, temos R${diminuir(p, 10)}')\n"
   ]
  },
  {
   "cell_type": "code",
   "execution_count": null,
   "metadata": {},
   "outputs": [],
   "source": []
  }
 ],
 "metadata": {
  "kernelspec": {
   "display_name": "Python 3",
   "language": "python",
   "name": "python3"
  },
  "language_info": {
   "codemirror_mode": {
    "name": "ipython",
    "version": 3
   },
   "file_extension": ".py",
   "mimetype": "text/x-python",
   "name": "python",
   "nbconvert_exporter": "python",
   "pygments_lexer": "ipython3",
   "version": "3.8.3"
  }
 },
 "nbformat": 4,
 "nbformat_minor": 4
}
