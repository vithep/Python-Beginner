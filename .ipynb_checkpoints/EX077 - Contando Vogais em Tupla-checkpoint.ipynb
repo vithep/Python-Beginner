{
 "cells": [
  {
   "cell_type": "code",
   "execution_count": 1,
   "metadata": {},
   "outputs": [
    {
     "name": "stdout",
     "output_type": "stream",
     "text": [
      "\n",
      "Na palavra APRENDER temos:  A  e  e \n",
      "Na palavra PROGRAMAR temos:  o  a  a \n",
      "Na palavra LINGUAGEM temos:  i  u  a  e \n",
      "Na palavra PYTHON temos:  o \n",
      "Na palavra CURSO temos:  u  o \n",
      "Na palavra GRATIS temos:  a  i \n",
      "Na palavra ESTUDAR temos:  E  u  a \n",
      "Na palavra PRATICAR temos:  a  i  a \n",
      "Na palavra TRABALHAR temos:  a  a  a \n",
      "Na palavra MERCADO temos:  e  a  o \n",
      "Na palavra PROGRAMADOR temos:  o  a  a  o \n",
      "Na palavra FUTURO temos:  u  u  o "
     ]
    }
   ],
   "source": [
    "palavras = ('Aprender', 'Programar', 'Linguagem', 'Python','Curso', 'Gratis', 'Estudar', 'Praticar', 'Trabalhar','Mercado','Programador', 'Futuro')\n",
    "for p in palavras:\n",
    "    print(f'\\nNa palavra {p.upper()} temos: ', end='')\n",
    "    for letra in p:\n",
    "        if letra.lower() in 'aeiou':\n",
    "            print(f'{letra:>2}',end=' ')"
   ]
  },
  {
   "cell_type": "code",
   "execution_count": null,
   "metadata": {},
   "outputs": [],
   "source": []
  }
 ],
 "metadata": {
  "kernelspec": {
   "display_name": "Python 3",
   "language": "python",
   "name": "python3"
  },
  "language_info": {
   "codemirror_mode": {
    "name": "ipython",
    "version": 3
   },
   "file_extension": ".py",
   "mimetype": "text/x-python",
   "name": "python",
   "nbconvert_exporter": "python",
   "pygments_lexer": "ipython3",
   "version": "3.8.3"
  }
 },
 "nbformat": 4,
 "nbformat_minor": 4
}
