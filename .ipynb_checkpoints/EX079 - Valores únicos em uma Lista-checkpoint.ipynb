{
 "cells": [
  {
   "cell_type": "code",
   "execution_count": 1,
   "metadata": {},
   "outputs": [
    {
     "name": "stdout",
     "output_type": "stream",
     "text": [
      "Digite um valor: 4\n",
      "Valor adicionado com sucesso...\n",
      "Deseja continuar? [S/N] n\n",
      "-=-=-=-=-=-=-=-=-=-=-=-=-=-=-=-=-=-=-=-=-=-=-=-=-=-=-=-=-=-=\n",
      "Você digitou os valores: [4]\n"
     ]
    }
   ],
   "source": [
    "lista = []\n",
    "while True:\n",
    "    v = int(input('Digite um valor: '))\n",
    "    if v not in lista:\n",
    "        lista.append(v)\n",
    "        print('Valor adicionado com sucesso...')\n",
    "    else:\n",
    "        print('Valor duplicado! Não adicionado...')\n",
    "    r = str(input('Deseja continuar? [S/N] ')).strip().upper()[0]\n",
    "    if r in 'Nn':\n",
    "        break\n",
    "print('-='*30)\n",
    "lista.sort()\n",
    "print(f'Você digitou os valores: {lista}')"
   ]
  },
  {
   "cell_type": "code",
   "execution_count": null,
   "metadata": {},
   "outputs": [],
   "source": []
  }
 ],
 "metadata": {
  "kernelspec": {
   "display_name": "Python 3",
   "language": "python",
   "name": "python3"
  },
  "language_info": {
   "codemirror_mode": {
    "name": "ipython",
    "version": 3
   },
   "file_extension": ".py",
   "mimetype": "text/x-python",
   "name": "python",
   "nbconvert_exporter": "python",
   "pygments_lexer": "ipython3",
   "version": "3.8.3"
  }
 },
 "nbformat": 4,
 "nbformat_minor": 4
}
