{
 "cells": [
  {
   "cell_type": "code",
   "execution_count": 1,
   "metadata": {},
   "outputs": [
    {
     "name": "stdout",
     "output_type": "stream",
     "text": [
      "Qual é o salário do Funcionário? R$1000\n",
      "O funcionário que ganhava R$1000.00, com 15% de aumento, passa a recerber R$1150.00\n"
     ]
    }
   ],
   "source": [
    "s=float(input('Qual é o salário do Funcionário? R$'))\n",
    "print('O funcionário que ganhava R${:.2f}, com 15% de aumento, passa a recerber R${:.2f}'.format(s,s*1.15))\n"
   ]
  },
  {
   "cell_type": "code",
   "execution_count": null,
   "metadata": {},
   "outputs": [],
   "source": []
  }
 ],
 "metadata": {
  "kernelspec": {
   "display_name": "Python 3",
   "language": "python",
   "name": "python3"
  },
  "language_info": {
   "codemirror_mode": {
    "name": "ipython",
    "version": 3
   },
   "file_extension": ".py",
   "mimetype": "text/x-python",
   "name": "python",
   "nbconvert_exporter": "python",
   "pygments_lexer": "ipython3",
   "version": "3.8.3"
  }
 },
 "nbformat": 4,
 "nbformat_minor": 4
}
