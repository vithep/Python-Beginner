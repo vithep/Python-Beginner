{
 "cells": [
  {
   "cell_type": "code",
   "execution_count": 2,
   "metadata": {},
   "outputs": [
    {
     "name": "stdout",
     "output_type": "stream",
     "text": [
      "Digite a sua primeira nota: 7.5\n",
      "Digite a sua segunda aula: 3.5\n",
      "A sua primeira aula é 7.5, a segunda 3.5, tendo como média o valor de 5.50\n"
     ]
    }
   ],
   "source": [
    "n1=float(input(\"Digite a sua primeira nota: \"))\n",
    "n2=float(input(\"Digite a sua segunda aula: \"))\n",
    "print(\"A sua primeira aula é {}, a segunda {}, tendo como média o valor de {:.2f}\".format(n1,n2,((n1+n2)/2)))"
   ]
  },
  {
   "cell_type": "code",
   "execution_count": null,
   "metadata": {},
   "outputs": [],
   "source": []
  }
 ],
 "metadata": {
  "kernelspec": {
   "display_name": "Python 3",
   "language": "python",
   "name": "python3"
  },
  "language_info": {
   "codemirror_mode": {
    "name": "ipython",
    "version": 3
   },
   "file_extension": ".py",
   "mimetype": "text/x-python",
   "name": "python",
   "nbconvert_exporter": "python",
   "pygments_lexer": "ipython3",
   "version": "3.8.3"
  }
 },
 "nbformat": 4,
 "nbformat_minor": 4
}
