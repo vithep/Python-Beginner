{
 "cells": [
  {
   "cell_type": "code",
   "execution_count": 1,
   "metadata": {},
   "outputs": [
    {
     "name": "stdout",
     "output_type": "stream",
     "text": [
      "Digite um numero [999 para parar]: 56\n",
      "Digite um numero [999 para parar]: 34\n",
      "Digite um numero [999 para parar]: 22\n",
      "Digite um numero [999 para parar]: 11\n",
      "Digite um numero [999 para parar]: 456\n",
      "Digite um numero [999 para parar]: 999\n",
      "Você digitou 5 numeros, com soma de 579\n"
     ]
    }
   ],
   "source": [
    "n = int(input('Digite um numero [999 para parar]: '))\n",
    "cont = 0\n",
    "soma = 0\n",
    "while n!=999:\n",
    "    cont += 1\n",
    "    soma += n\n",
    "    n = int(input('Digite um numero [999 para parar]: '))\n",
    "print('Você digitou {} numeros, com soma de {}'.format(cont,soma))"
   ]
  },
  {
   "cell_type": "code",
   "execution_count": null,
   "metadata": {},
   "outputs": [],
   "source": []
  }
 ],
 "metadata": {
  "kernelspec": {
   "display_name": "Python 3",
   "language": "python",
   "name": "python3"
  },
  "language_info": {
   "codemirror_mode": {
    "name": "ipython",
    "version": 3
   },
   "file_extension": ".py",
   "mimetype": "text/x-python",
   "name": "python",
   "nbconvert_exporter": "python",
   "pygments_lexer": "ipython3",
   "version": "3.8.3"
  }
 },
 "nbformat": 4,
 "nbformat_minor": 4
}
