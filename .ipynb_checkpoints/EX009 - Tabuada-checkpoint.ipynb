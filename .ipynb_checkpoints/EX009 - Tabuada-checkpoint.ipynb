{
 "cells": [
  {
   "cell_type": "code",
   "execution_count": 1,
   "metadata": {},
   "outputs": [
    {
     "name": "stdout",
     "output_type": "stream",
     "text": [
      "Digite um valor para ver a sua tabuada:5\n",
      "---------------\n",
      "5.0 x 1  = 5.0\n",
      "5.0 x 2  = 10.0\n",
      "5.0 x 3  = 15.0\n",
      "5.0 x 4  = 20.0\n",
      "5.0 x 5  = 25.0\n",
      "5.0 x 6  = 30.0\n",
      "5.0 x 7  = 35.0\n",
      "5.0 x 8  = 40.0\n",
      "5.0 x 9  = 45.0\n",
      "5.0 x 10 = 50.0\n",
      "---------------\n"
     ]
    }
   ],
   "source": [
    "v=float(input('Digite um valor para ver a sua tabuada:'))\n",
    "print(\"---------------\")\n",
    "print('{} x 1  = {}'.format(v,v*1))\n",
    "print('{} x 2  = {}'.format(v,v*2))\n",
    "print('{} x 3  = {}'.format(v,v*3))\n",
    "print('{} x 4  = {}'.format(v,v*4))\n",
    "print('{} x 5  = {}'.format(v,v*5))\n",
    "print('{} x 6  = {}'.format(v,v*6))\n",
    "print('{} x 7  = {}'.format(v,v*7))\n",
    "print('{} x 8  = {}'.format(v,v*8))\n",
    "print('{} x 9  = {}'.format(v,v*9))\n",
    "print('{} x 10 = {}'.format(v,v*10))\n",
    "print(\"---------------\")"
   ]
  },
  {
   "cell_type": "code",
   "execution_count": 7,
   "metadata": {},
   "outputs": [
    {
     "name": "stdout",
     "output_type": "stream",
     "text": [
      "Digite um valor para ver a sua tabuada:5\n",
      "---------------\n",
      "5.0 x 1 = 5.0\n",
      "5.0 x 2 = 10.0\n",
      "5.0 x 3 = 15.0\n",
      "5.0 x 4 = 20.0\n",
      "5.0 x 5 = 25.0\n",
      "5.0 x 6 = 30.0\n",
      "5.0 x 7 = 35.0\n",
      "5.0 x 8 = 40.0\n",
      "5.0 x 9 = 45.0\n",
      "5.0 x 10 = 50.0\n",
      "---------------\n"
     ]
    }
   ],
   "source": [
    "v=float(input('Digite um valor para ver a sua tabuada:'))\n",
    "print(\"---------------\")\n",
    "i = 1\n",
    "while i < 11:\n",
    "    print('{} x {} = {}'.format(v,i,v*i))\n",
    "    i +=1\n",
    "print(\"---------------\")"
   ]
  },
  {
   "cell_type": "code",
   "execution_count": null,
   "metadata": {},
   "outputs": [],
   "source": []
  }
 ],
 "metadata": {
  "kernelspec": {
   "display_name": "Python 3",
   "language": "python",
   "name": "python3"
  },
  "language_info": {
   "codemirror_mode": {
    "name": "ipython",
    "version": 3
   },
   "file_extension": ".py",
   "mimetype": "text/x-python",
   "name": "python",
   "nbconvert_exporter": "python",
   "pygments_lexer": "ipython3",
   "version": "3.8.3"
  }
 },
 "nbformat": 4,
 "nbformat_minor": 4
}
