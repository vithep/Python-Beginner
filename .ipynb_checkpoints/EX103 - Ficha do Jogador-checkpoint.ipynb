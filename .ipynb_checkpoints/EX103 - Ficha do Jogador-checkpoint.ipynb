{
 "cells": [
  {
   "cell_type": "code",
   "execution_count": 1,
   "metadata": {},
   "outputs": [
    {
     "name": "stdout",
     "output_type": "stream",
     "text": [
      "Nome do Jogador: Victor\n",
      "Numero de Gols:4\n",
      "O jogador Victor fez 4 gol(s) no campeonato.\n"
     ]
    }
   ],
   "source": [
    "def ficha(jog='<desconhecido>',gol=0):\n",
    "    print(f'O jogador {jog} fez {gol} gol(s) no campeonato.')\n",
    "\n",
    "n = str(input('Nome do Jogador: '))\n",
    "g = str(input('Numero de Gols:'))\n",
    "if g.isnumeric():\n",
    "    g = int(g)\n",
    "else:\n",
    "    g=0\n",
    "if n.strip() == '':\n",
    "    ficha(gol = g)\n",
    "else:\n",
    "    ficha(n, g)"
   ]
  },
  {
   "cell_type": "code",
   "execution_count": null,
   "metadata": {},
   "outputs": [],
   "source": []
  }
 ],
 "metadata": {
  "kernelspec": {
   "display_name": "Python 3",
   "language": "python",
   "name": "python3"
  },
  "language_info": {
   "codemirror_mode": {
    "name": "ipython",
    "version": 3
   },
   "file_extension": ".py",
   "mimetype": "text/x-python",
   "name": "python",
   "nbconvert_exporter": "python",
   "pygments_lexer": "ipython3",
   "version": "3.8.3"
  }
 },
 "nbformat": 4,
 "nbformat_minor": 4
}
