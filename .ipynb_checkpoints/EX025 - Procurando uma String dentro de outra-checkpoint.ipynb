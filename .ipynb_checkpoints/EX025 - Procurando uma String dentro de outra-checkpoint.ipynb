{
 "cells": [
  {
   "cell_type": "code",
   "execution_count": 1,
   "metadata": {},
   "outputs": [
    {
     "name": "stdout",
     "output_type": "stream",
     "text": [
      "Digite seu nome: Victor Henrique Pereira\n",
      "O seu nome tem Silva?  False\n"
     ]
    }
   ],
   "source": [
    "n=str(input('Digite seu nome: ')).strip()\n",
    "print('O seu nome tem Silva? ','SILVA' in n.upper())"
   ]
  },
  {
   "cell_type": "code",
   "execution_count": 2,
   "metadata": {},
   "outputs": [
    {
     "name": "stdout",
     "output_type": "stream",
     "text": [
      "Digite seu nome: Antonio Silva\n",
      "O seu nome tem Silva?  True\n"
     ]
    }
   ],
   "source": [
    "n=str(input('Digite seu nome: ')).strip()\n",
    "print('O seu nome tem Silva? ','SILVA' in n.upper())"
   ]
  },
  {
   "cell_type": "code",
   "execution_count": null,
   "metadata": {},
   "outputs": [],
   "source": []
  }
 ],
 "metadata": {
  "kernelspec": {
   "display_name": "Python 3",
   "language": "python",
   "name": "python3"
  },
  "language_info": {
   "codemirror_mode": {
    "name": "ipython",
    "version": 3
   },
   "file_extension": ".py",
   "mimetype": "text/x-python",
   "name": "python",
   "nbconvert_exporter": "python",
   "pygments_lexer": "ipython3",
   "version": "3.8.3"
  }
 },
 "nbformat": 4,
 "nbformat_minor": 4
}
