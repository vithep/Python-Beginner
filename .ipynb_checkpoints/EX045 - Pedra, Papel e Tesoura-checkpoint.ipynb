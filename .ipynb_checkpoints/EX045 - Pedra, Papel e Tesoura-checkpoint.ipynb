{
 "cells": [
  {
   "cell_type": "code",
   "execution_count": 1,
   "metadata": {},
   "outputs": [],
   "source": [
    "import random"
   ]
  },
  {
   "cell_type": "code",
   "execution_count": 2,
   "metadata": {},
   "outputs": [
    {
     "name": "stdout",
     "output_type": "stream",
     "text": [
      "Suas opções\n",
      "[ 0 ] PEDRA\n",
      "[ 1 ] PAPEL\n",
      "[ 2 ] TESOURA\n",
      "Qual a sua jogada? 2\n",
      "Você escolheu TESOURA\n",
      "O computador escolheu PEDRA\n",
      "Você perdeu, TESOURA perde para PEDRA\n"
     ]
    }
   ],
   "source": [
    "print('''Suas opções\n",
    "[ 0 ] PEDRA\n",
    "[ 1 ] PAPEL\n",
    "[ 2 ] TESOURA''')\n",
    "itens = ['PEDRA','PAPEL','TESOURA']\n",
    "j=int(input('Qual a sua jogada? '))\n",
    "c=random.randint(0,2)\n",
    "print('Você escolheu {}'.format(itens[j]))\n",
    "print('O computador escolheu {}'.format(itens[c]))\n",
    "if j==0:\n",
    "    if c==2:\n",
    "        print('Você ganhou, PEDRA ganha de TESOURA')\n",
    "    elif c==1:\n",
    "        print('Você perdeu, PEDRA perde para PAPEL')\n",
    "    else:\n",
    "        print('EMPATE')\n",
    "elif j==1:\n",
    "    if c==0:\n",
    "        print('Você ganhou, PAPEL ganha de PEDRA')\n",
    "    elif c==2:\n",
    "        print('Você perdeu, PAPEL perde para TESOURA')\n",
    "    else:\n",
    "        print('EMPATE')\n",
    "elif j==2:\n",
    "    if c == 1:\n",
    "        print('Você ganhou, TESOURA ganha de PAPEL')\n",
    "    elif c == 0:\n",
    "        print('Você perdeu, TESOURA perde para PEDRA')\n",
    "    else:\n",
    "        print('EMPATE')\n",
    "else:\n",
    "    print ('Numero Invalido')"
   ]
  },
  {
   "cell_type": "code",
   "execution_count": null,
   "metadata": {},
   "outputs": [],
   "source": []
  }
 ],
 "metadata": {
  "kernelspec": {
   "display_name": "Python 3",
   "language": "python",
   "name": "python3"
  },
  "language_info": {
   "codemirror_mode": {
    "name": "ipython",
    "version": 3
   },
   "file_extension": ".py",
   "mimetype": "text/x-python",
   "name": "python",
   "nbconvert_exporter": "python",
   "pygments_lexer": "ipython3",
   "version": "3.8.3"
  }
 },
 "nbformat": 4,
 "nbformat_minor": 4
}
