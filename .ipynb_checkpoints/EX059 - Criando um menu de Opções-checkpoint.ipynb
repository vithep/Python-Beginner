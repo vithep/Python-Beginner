{
 "cells": [
  {
   "cell_type": "code",
   "execution_count": 1,
   "metadata": {},
   "outputs": [
    {
     "name": "stdout",
     "output_type": "stream",
     "text": [
      "Primeiro Valor: 5\n",
      "Segundo Valor: 3\n",
      "********************\n",
      "[ 1 ] Somar\n",
      "[ 2 ] Multiplicar\n",
      "[ 3 ] Maior\n",
      "[ 4 ] Novos Números\n",
      "[ 5 ] Sair do Programa\n",
      "Escolha a opção: 1\n",
      "A soma dos valores 5 e 3 é igual a 8\n",
      "********************\n",
      "[ 1 ] Somar\n",
      "[ 2 ] Multiplicar\n",
      "[ 3 ] Maior\n",
      "[ 4 ] Novos Números\n",
      "[ 5 ] Sair do Programa\n",
      "Escolha a opção: 2\n",
      "A multiplicação dos valores 5 e 3 é igual a 15\n",
      "********************\n",
      "[ 1 ] Somar\n",
      "[ 2 ] Multiplicar\n",
      "[ 3 ] Maior\n",
      "[ 4 ] Novos Números\n",
      "[ 5 ] Sair do Programa\n",
      "Escolha a opção: 5\n",
      "Finalizando...\n",
      "Fim do programa, volte sempre!\n"
     ]
    }
   ],
   "source": [
    "n1=int(input('Primeiro Valor: '))\n",
    "n2=int(input('Segundo Valor: '))\n",
    "op=0\n",
    "while op != 5:\n",
    "    print('*'*20)\n",
    "    print('''[ 1 ] Somar\n",
    "[ 2 ] Multiplicar\n",
    "[ 3 ] Maior\n",
    "[ 4 ] Novos Números\n",
    "[ 5 ] Sair do Programa''')\n",
    "    op=int(input('Escolha a opção: '))\n",
    "    if op==1:\n",
    "        print('A soma dos valores {} e {} é igual a {}'.format(n1,n2,n1+n2))\n",
    "    elif op==2:\n",
    "        print('A multiplicação dos valores {} e {} é igual a {}'.format(n1,n2,n1*n2))\n",
    "    elif op == 3:\n",
    "        if n1>n2:\n",
    "            print('Entre os valores {} e {} o maior é {}'.format(n1, n2, n1))\n",
    "        else:\n",
    "            print('Entre os valores {} e {} o maior é {}'.format(n1, n2, n2))\n",
    "    elif op == 4:\n",
    "        n1 = int(input('Primeiro Valor: '))\n",
    "        n2 = int(input('Segundo Valor: '))\n",
    "    elif op == 5:\n",
    "        print('Finalizando...')\n",
    "    else:\n",
    "        print('Opção invalida!!')\n",
    "print('Fim do programa, volte sempre!')"
   ]
  },
  {
   "cell_type": "code",
   "execution_count": null,
   "metadata": {},
   "outputs": [],
   "source": []
  }
 ],
 "metadata": {
  "kernelspec": {
   "display_name": "Python 3",
   "language": "python",
   "name": "python3"
  },
  "language_info": {
   "codemirror_mode": {
    "name": "ipython",
    "version": 3
   },
   "file_extension": ".py",
   "mimetype": "text/x-python",
   "name": "python",
   "nbconvert_exporter": "python",
   "pygments_lexer": "ipython3",
   "version": "3.8.3"
  }
 },
 "nbformat": 4,
 "nbformat_minor": 4
}
