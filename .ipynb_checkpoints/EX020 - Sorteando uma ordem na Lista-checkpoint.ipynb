{
 "cells": [
  {
   "cell_type": "code",
   "execution_count": 1,
   "metadata": {},
   "outputs": [],
   "source": [
    "import random"
   ]
  },
  {
   "cell_type": "code",
   "execution_count": 2,
   "metadata": {},
   "outputs": [
    {
     "name": "stdout",
     "output_type": "stream",
     "text": [
      "Digite um nome: Victor\n",
      "Digite um nome: Antonio\n",
      "Digite um nome: Sergio\n",
      "Digite um nome: Renan\n",
      "A ordem de apresentação será\n",
      "['Victor', 'Sergio', 'Renan', 'Antonio']\n"
     ]
    }
   ],
   "source": [
    "a = str(input('Digite um nome: '))\n",
    "b = str(input('Digite um nome: '))\n",
    "c = str(input('Digite um nome: '))\n",
    "d = str(input('Digite um nome: '))\n",
    "lista = [a,b,c,d]\n",
    "random.shuffle(lista)\n",
    "print('A ordem de apresentação será\\n{}'.format(lista))"
   ]
  },
  {
   "cell_type": "code",
   "execution_count": null,
   "metadata": {},
   "outputs": [],
   "source": []
  }
 ],
 "metadata": {
  "kernelspec": {
   "display_name": "Python 3",
   "language": "python",
   "name": "python3"
  },
  "language_info": {
   "codemirror_mode": {
    "name": "ipython",
    "version": 3
   },
   "file_extension": ".py",
   "mimetype": "text/x-python",
   "name": "python",
   "nbconvert_exporter": "python",
   "pygments_lexer": "ipython3",
   "version": "3.8.3"
  }
 },
 "nbformat": 4,
 "nbformat_minor": 4
}
