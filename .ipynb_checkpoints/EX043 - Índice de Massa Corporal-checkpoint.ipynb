{
 "cells": [
  {
   "cell_type": "code",
   "execution_count": 1,
   "metadata": {},
   "outputs": [
    {
     "name": "stdout",
     "output_type": "stream",
     "text": [
      "Qual o seu peso? 90\n",
      "Qual a sua altura? 1.83\n",
      "Seu IMC é igual a 26.87\n",
      "Você está classificado como SOBREPESO\n"
     ]
    }
   ],
   "source": [
    "p=float(input('Qual o seu peso? '))\n",
    "h=float(input('Qual a sua altura? '))\n",
    "imc= p/h**2\n",
    "print('Seu IMC é igual a {:.2f}'.format(imc))\n",
    "if imc<18.5:\n",
    "    print('Você está classificado como ABAIXO DO PESO')\n",
    "elif imc>=18.5 and imc<25:\n",
    "    print('Você está classificado como PESO IDEAL')\n",
    "elif imc >= 25 and imc < 30:\n",
    "    print('Você está classificado como SOBREPESO')\n",
    "elif imc>=30 and imc<40:\n",
    "    print('Você está classificado como OBESIDADE')\n",
    "else:\n",
    "    print('Você está classificado como OBESIDADE MORBIDA')"
   ]
  },
  {
   "cell_type": "code",
   "execution_count": null,
   "metadata": {},
   "outputs": [],
   "source": []
  }
 ],
 "metadata": {
  "kernelspec": {
   "display_name": "Python 3",
   "language": "python",
   "name": "python3"
  },
  "language_info": {
   "codemirror_mode": {
    "name": "ipython",
    "version": 3
   },
   "file_extension": ".py",
   "mimetype": "text/x-python",
   "name": "python",
   "nbconvert_exporter": "python",
   "pygments_lexer": "ipython3",
   "version": "3.8.3"
  }
 },
 "nbformat": 4,
 "nbformat_minor": 4
}
