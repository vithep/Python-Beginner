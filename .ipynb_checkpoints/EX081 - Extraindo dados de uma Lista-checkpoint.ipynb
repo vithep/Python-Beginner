{
 "cells": [
  {
   "cell_type": "code",
   "execution_count": 1,
   "metadata": {},
   "outputs": [
    {
     "name": "stdout",
     "output_type": "stream",
     "text": [
      "Digite um valor: 4\n",
      "Você quer continuar [S/N]: s\n",
      "Digite um valor: 2\n",
      "Você quer continuar [S/N]: n\n",
      "-=-=-=-=-=-=-=-=-=-=-=-=-=-=-=-=-=-=-=-=-=-=-=-=-=-=-=-=-=-=\n",
      "Você digitou 2 elementos\n",
      "Os valores em ordem decrescente: [4, 2]\n",
      "O valor 5 não faz parte da lista\n"
     ]
    }
   ],
   "source": [
    "lista = []\n",
    "while True:\n",
    "    lista.append(int(input('Digite um valor: ')))\n",
    "    resp = str(input('Você quer continuar [S/N]: ')).upper().strip()[0]\n",
    "    if resp in 'Nn':\n",
    "        break\n",
    "print('-='*30)\n",
    "print(f'Você digitou {len(lista)} elementos')\n",
    "lista.sort(reverse=True)\n",
    "print(f'Os valores em ordem decrescente: {lista}')\n",
    "if 5 in lista:\n",
    "    print('O valor 5 faz parte da lista')\n",
    "else:\n",
    "    print('O valor 5 não faz parte da lista')"
   ]
  },
  {
   "cell_type": "code",
   "execution_count": null,
   "metadata": {},
   "outputs": [],
   "source": []
  }
 ],
 "metadata": {
  "kernelspec": {
   "display_name": "Python 3",
   "language": "python",
   "name": "python3"
  },
  "language_info": {
   "codemirror_mode": {
    "name": "ipython",
    "version": 3
   },
   "file_extension": ".py",
   "mimetype": "text/x-python",
   "name": "python",
   "nbconvert_exporter": "python",
   "pygments_lexer": "ipython3",
   "version": "3.8.3"
  }
 },
 "nbformat": 4,
 "nbformat_minor": 4
}
