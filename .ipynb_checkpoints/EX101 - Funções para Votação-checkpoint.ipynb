{
 "cells": [
  {
   "cell_type": "code",
   "execution_count": 1,
   "metadata": {},
   "outputs": [],
   "source": [
    "from datetime import date"
   ]
  },
  {
   "cell_type": "code",
   "execution_count": 2,
   "metadata": {},
   "outputs": [
    {
     "name": "stdout",
     "output_type": "stream",
     "text": [
      "Em que ano nasceu? 1995\n",
      "Você tem 26, então tem que votar!\n"
     ]
    }
   ],
   "source": [
    "def voto(a):\n",
    "    idade = date.today().year - a\n",
    "    if 18>idade>=16 or idade > 65:\n",
    "        return f'Você tem {idade}, então seu voto é opicional!'\n",
    "    elif idade < 16:\n",
    "        t = 18 - idade\n",
    "        a2 = t+date.today().year\n",
    "        return f'Você ainda não pode vota, você só pode votar em {a2}'\n",
    "    else:\n",
    "        return f'Você tem {idade}, então tem que votar!'\n",
    "\n",
    "nasc = int(input('Em que ano nasceu? '))\n",
    "voto(nasc)\n",
    "print(voto(nasc))"
   ]
  },
  {
   "cell_type": "code",
   "execution_count": null,
   "metadata": {},
   "outputs": [],
   "source": []
  }
 ],
 "metadata": {
  "kernelspec": {
   "display_name": "Python 3",
   "language": "python",
   "name": "python3"
  },
  "language_info": {
   "codemirror_mode": {
    "name": "ipython",
    "version": 3
   },
   "file_extension": ".py",
   "mimetype": "text/x-python",
   "name": "python",
   "nbconvert_exporter": "python",
   "pygments_lexer": "ipython3",
   "version": "3.8.3"
  }
 },
 "nbformat": 4,
 "nbformat_minor": 4
}
