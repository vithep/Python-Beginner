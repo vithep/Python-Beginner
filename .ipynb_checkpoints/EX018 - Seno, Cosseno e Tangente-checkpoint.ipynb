{
 "cells": [
  {
   "cell_type": "code",
   "execution_count": 1,
   "metadata": {},
   "outputs": [],
   "source": [
    "import math as m"
   ]
  },
  {
   "cell_type": "code",
   "execution_count": 2,
   "metadata": {},
   "outputs": [
    {
     "name": "stdout",
     "output_type": "stream",
     "text": [
      "Digite o angulo que você deseja: 45\n",
      "O ângulo de 45.0 tem o SENO de 0.71\n",
      "O ângulo de 45.0 tem o COSSENO de 0.71\n",
      "O ângulo de 45.0 tem a TANGENTE de 1.00\n"
     ]
    }
   ],
   "source": [
    "a=float(input(\"Digite o angulo que você deseja: \"))\n",
    "print('O ângulo de {} tem o SENO de {:.2f}'.format(a,m.sin(m.radians(a))))\n",
    "print('O ângulo de {} tem o COSSENO de {:.2f}'.format(a,m.cos(m.radians(a))))\n",
    "print('O ângulo de {} tem a TANGENTE de {:.2f}'.format(a,m.tan(m.radians(a))))"
   ]
  },
  {
   "cell_type": "code",
   "execution_count": null,
   "metadata": {},
   "outputs": [],
   "source": []
  }
 ],
 "metadata": {
  "kernelspec": {
   "display_name": "Python 3",
   "language": "python",
   "name": "python3"
  },
  "language_info": {
   "codemirror_mode": {
    "name": "ipython",
    "version": 3
   },
   "file_extension": ".py",
   "mimetype": "text/x-python",
   "name": "python",
   "nbconvert_exporter": "python",
   "pygments_lexer": "ipython3",
   "version": "3.8.3"
  }
 },
 "nbformat": 4,
 "nbformat_minor": 4
}
