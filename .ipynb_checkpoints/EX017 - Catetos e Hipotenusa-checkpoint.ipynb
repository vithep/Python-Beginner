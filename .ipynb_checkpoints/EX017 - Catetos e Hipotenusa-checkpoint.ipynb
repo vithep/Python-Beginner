{
 "cells": [
  {
   "cell_type": "code",
   "execution_count": 1,
   "metadata": {},
   "outputs": [],
   "source": [
    "import math as m"
   ]
  },
  {
   "cell_type": "code",
   "execution_count": 2,
   "metadata": {},
   "outputs": [
    {
     "name": "stdout",
     "output_type": "stream",
     "text": [
      "Comprimento do cateto oposto:6\n",
      "Comprimento do cateto adjacente:4\n",
      "A hipotenusa vai medir 7.21\n"
     ]
    }
   ],
   "source": [
    "co=float(input('Comprimento do cateto oposto:'))\n",
    "ca=float(input('Comprimento do cateto adjacente:'))\n",
    "h=m.hypot(co,ca)\n",
    "print('A hipotenusa vai medir {:.2f}'.format(h))"
   ]
  },
  {
   "cell_type": "code",
   "execution_count": null,
   "metadata": {},
   "outputs": [],
   "source": []
  }
 ],
 "metadata": {
  "kernelspec": {
   "display_name": "Python 3",
   "language": "python",
   "name": "python3"
  },
  "language_info": {
   "codemirror_mode": {
    "name": "ipython",
    "version": 3
   },
   "file_extension": ".py",
   "mimetype": "text/x-python",
   "name": "python",
   "nbconvert_exporter": "python",
   "pygments_lexer": "ipython3",
   "version": "3.8.3"
  }
 },
 "nbformat": 4,
 "nbformat_minor": 4
}
