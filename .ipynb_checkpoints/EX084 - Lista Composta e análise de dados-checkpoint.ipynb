{
 "cells": [
  {
   "cell_type": "code",
   "execution_count": 1,
   "metadata": {},
   "outputs": [
    {
     "name": "stdout",
     "output_type": "stream",
     "text": [
      "Qual o seu nome: Victor\n",
      "Qual o seu peso: 90\n",
      "Deseja continuar? [S/N] n\n",
      "Ao todo foram cadastrados 1 pessoas\n",
      "O maior peso foi de 90.0kg de [Victor]\n",
      "O menor peso foi de 90.0kg de [Victor]"
     ]
    }
   ],
   "source": [
    "lista = []\n",
    "dado = []\n",
    "mai = men = 0\n",
    "while True:\n",
    "    dado.append(str(input('Qual o seu nome: ')))\n",
    "    dado.append(float(input('Qual o seu peso: ')))\n",
    "    if len(lista) == 0:\n",
    "        mai = men = dado[1]\n",
    "    else:\n",
    "        if dado[1] > mai:\n",
    "            mai = dado[1]\n",
    "        if dado[1] < men:\n",
    "            men = dado[1]\n",
    "    lista.append(dado[:])\n",
    "    dado.clear()\n",
    "    r = str(input('Deseja continuar? [S/N] ')).strip().upper()[0]\n",
    "    if r in 'Nn':\n",
    "        break\n",
    "print(f'Ao todo foram cadastrados {len(lista)} pessoas')\n",
    "print(f'O maior peso foi de {mai}kg de ' , end=\"\")\n",
    "for p in lista:\n",
    "    if p[1] == mai:\n",
    "        print(f'[{p[0]}]')\n",
    "print(f'O menor peso foi de {men}kg de ' , end=\"\")\n",
    "for p in lista:\n",
    "    if p[1] == men:\n",
    "        print(f'[{p[0]}]', end=\"\")"
   ]
  },
  {
   "cell_type": "code",
   "execution_count": null,
   "metadata": {},
   "outputs": [],
   "source": []
  }
 ],
 "metadata": {
  "kernelspec": {
   "display_name": "Python 3",
   "language": "python",
   "name": "python3"
  },
  "language_info": {
   "codemirror_mode": {
    "name": "ipython",
    "version": 3
   },
   "file_extension": ".py",
   "mimetype": "text/x-python",
   "name": "python",
   "nbconvert_exporter": "python",
   "pygments_lexer": "ipython3",
   "version": "3.8.3"
  }
 },
 "nbformat": 4,
 "nbformat_minor": 4
}
