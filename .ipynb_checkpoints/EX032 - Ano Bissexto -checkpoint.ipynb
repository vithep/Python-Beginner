{
 "cells": [
  {
   "cell_type": "code",
   "execution_count": 1,
   "metadata": {},
   "outputs": [],
   "source": [
    "from datetime import date"
   ]
  },
  {
   "cell_type": "code",
   "execution_count": 2,
   "metadata": {},
   "outputs": [
    {
     "name": "stdout",
     "output_type": "stream",
     "text": [
      "Que ano quer analisar? Coloque 0 se for o ano atual 2021\n",
      "O ano 2021 não é BISSEXTO\n"
     ]
    }
   ],
   "source": [
    "a=int(input('Que ano quer analisar? Coloque 0 se for o ano atual '))\n",
    "if a==0:\n",
    "    a=date.today().year\n",
    "if a%4==0 and a%100!=0 or a%400==0:\n",
    "    print('O ano {} é BISSEXTO'.format(a))\n",
    "else:\n",
    "    print('O ano {} não é BISSEXTO'.format(a))"
   ]
  },
  {
   "cell_type": "code",
   "execution_count": null,
   "metadata": {},
   "outputs": [],
   "source": []
  }
 ],
 "metadata": {
  "kernelspec": {
   "display_name": "Python 3",
   "language": "python",
   "name": "python3"
  },
  "language_info": {
   "codemirror_mode": {
    "name": "ipython",
    "version": 3
   },
   "file_extension": ".py",
   "mimetype": "text/x-python",
   "name": "python",
   "nbconvert_exporter": "python",
   "pygments_lexer": "ipython3",
   "version": "3.8.3"
  }
 },
 "nbformat": 4,
 "nbformat_minor": 4
}
