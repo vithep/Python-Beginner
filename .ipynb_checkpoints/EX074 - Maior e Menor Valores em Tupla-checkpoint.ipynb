{
 "cells": [
  {
   "cell_type": "code",
   "execution_count": 1,
   "metadata": {},
   "outputs": [],
   "source": [
    "from random import randint"
   ]
  },
  {
   "cell_type": "code",
   "execution_count": 2,
   "metadata": {},
   "outputs": [
    {
     "name": "stdout",
     "output_type": "stream",
     "text": [
      "Os valores sorteados foram: \n",
      "3 2 5 4 5 \n",
      "O maior valor sorteado foi 5\n",
      "O menor valor sorteado foi 2\n"
     ]
    }
   ],
   "source": [
    "num=(randint(1,10), randint(1,10),randint(1,10),randint(1,10),randint(1,10))\n",
    "print(f'Os valores sorteados foram: ')\n",
    "for n in num:\n",
    "    print(f'{n} ', end='')\n",
    "print(f'\\nO maior valor sorteado foi {max(num)}')\n",
    "print(f'O menor valor sorteado foi {min(num)}')"
   ]
  },
  {
   "cell_type": "code",
   "execution_count": null,
   "metadata": {},
   "outputs": [],
   "source": []
  }
 ],
 "metadata": {
  "kernelspec": {
   "display_name": "Python 3",
   "language": "python",
   "name": "python3"
  },
  "language_info": {
   "codemirror_mode": {
    "name": "ipython",
    "version": 3
   },
   "file_extension": ".py",
   "mimetype": "text/x-python",
   "name": "python",
   "nbconvert_exporter": "python",
   "pygments_lexer": "ipython3",
   "version": "3.8.3"
  }
 },
 "nbformat": 4,
 "nbformat_minor": 4
}
