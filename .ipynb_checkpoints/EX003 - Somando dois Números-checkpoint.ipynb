{
 "cells": [
  {
   "cell_type": "code",
   "execution_count": 1,
   "metadata": {},
   "outputs": [
    {
     "name": "stdout",
     "output_type": "stream",
     "text": [
      "Digite um numero: 2\n",
      "Digite mais um numero: 3\n",
      "A soma de 2 com 3 terá como resultado o valor 5\n"
     ]
    }
   ],
   "source": [
    "n=input(\"Digite um numero: \")\n",
    "n1=input(\"Digite mais um numero: \")\n",
    "s = int(n)+int(n1)\n",
    "print(\"A soma de {} com {} terá como resultado o valor {}\".format(n,n1,s))"
   ]
  },
  {
   "cell_type": "code",
   "execution_count": null,
   "metadata": {},
   "outputs": [],
   "source": []
  }
 ],
 "metadata": {
  "kernelspec": {
   "display_name": "Python 3",
   "language": "python",
   "name": "python3"
  },
  "language_info": {
   "codemirror_mode": {
    "name": "ipython",
    "version": 3
   },
   "file_extension": ".py",
   "mimetype": "text/x-python",
   "name": "python",
   "nbconvert_exporter": "python",
   "pygments_lexer": "ipython3",
   "version": "3.8.3"
  }
 },
 "nbformat": 4,
 "nbformat_minor": 4
}
