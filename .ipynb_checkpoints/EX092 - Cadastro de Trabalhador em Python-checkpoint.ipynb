{
 "cells": [
  {
   "cell_type": "code",
   "execution_count": 1,
   "metadata": {},
   "outputs": [],
   "source": [
    "from datetime import datetime"
   ]
  },
  {
   "cell_type": "code",
   "execution_count": 2,
   "metadata": {},
   "outputs": [
    {
     "name": "stdout",
     "output_type": "stream",
     "text": [
      "Nome: Victor \n",
      "Ano de Nascimento: 1995\n",
      "Carteira de Trabalho (0 não tem): 12345678\n",
      "Ano de Contratação: 2021\n",
      "Salário: R$4000\n",
      "-=-=-=-=-=-=-=-=-=-=-=-=-=-=-=-=-=-=-=-=-=-=-=-=-=-=-=-=-=-=\n",
      " - nome tem o valor Victor \n",
      " - idade tem o valor 26\n",
      " - ctps tem o valor 12345678\n",
      " - contratação tem o valor 2021\n",
      " - salário tem o valor 4000.0\n",
      " - aposentadoria tem o valor 61\n"
     ]
    }
   ],
   "source": [
    "dados = {}\n",
    "dados['nome'] = str(input('Nome: '))\n",
    "nasc = int(input('Ano de Nascimento: '))\n",
    "dados['idade'] = datetime.now().year - nasc\n",
    "dados['ctps'] = int(input('Carteira de Trabalho (0 não tem): '))\n",
    "if dados['ctps'] !=0:\n",
    "    dados['contratação']= int(input('Ano de Contratação: '))\n",
    "    dados['salário'] = float(input('Salário: R$'))\n",
    "    dados['aposentadoria'] = dados['idade'] + ((dados['contratação'] + 35) - datetime.now().year)\n",
    "print('-='*30)\n",
    "for k,v in dados.items():\n",
    "    print(f' - {k} tem o valor {v}')"
   ]
  },
  {
   "cell_type": "code",
   "execution_count": null,
   "metadata": {},
   "outputs": [],
   "source": []
  }
 ],
 "metadata": {
  "kernelspec": {
   "display_name": "Python 3",
   "language": "python",
   "name": "python3"
  },
  "language_info": {
   "codemirror_mode": {
    "name": "ipython",
    "version": 3
   },
   "file_extension": ".py",
   "mimetype": "text/x-python",
   "name": "python",
   "nbconvert_exporter": "python",
   "pygments_lexer": "ipython3",
   "version": "3.8.3"
  }
 },
 "nbformat": 4,
 "nbformat_minor": 4
}
