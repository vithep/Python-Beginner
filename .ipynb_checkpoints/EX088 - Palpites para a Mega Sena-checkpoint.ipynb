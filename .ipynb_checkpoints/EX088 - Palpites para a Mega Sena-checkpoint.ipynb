{
 "cells": [
  {
   "cell_type": "code",
   "execution_count": 1,
   "metadata": {},
   "outputs": [],
   "source": [
    "from time import sleep\n",
    "from random import randint"
   ]
  },
  {
   "cell_type": "code",
   "execution_count": 2,
   "metadata": {},
   "outputs": [
    {
     "name": "stdout",
     "output_type": "stream",
     "text": [
      "Quantos jogos você quer que eu sorteie? 4\n",
      "Os numeros sorteados foram:\n",
      "Jogo 1: [13, 15, 19, 32, 47, 50]\n",
      "Jogo 2: [5, 18, 27, 30, 41, 57]\n",
      "Jogo 3: [2, 5, 8, 14, 32, 56]\n",
      "Jogo 4: [1, 2, 12, 15, 20, 33]\n",
      "Boa Sorte\n"
     ]
    }
   ],
   "source": [
    "lista = list()\n",
    "jogos = list ()\n",
    "cont = 0\n",
    "quant = int(input('Quantos jogos você quer que eu sorteie? '))\n",
    "total = 1\n",
    "while total <= quant:\n",
    "    cont=0\n",
    "    while True:\n",
    "        num = randint(1,60)\n",
    "        if num not in lista:\n",
    "            lista.append(num)\n",
    "            cont +=1\n",
    "        if cont>=6:\n",
    "            break\n",
    "    lista.sort()\n",
    "    jogos.append(lista[:])\n",
    "    lista.clear()\n",
    "    total += 1\n",
    "print(f'Os numeros sorteados foram:')\n",
    "for i,l in enumerate(jogos):\n",
    "    print(f'Jogo {1+i}: {l}')\n",
    "    sleep(1)\n",
    "print('Boa Sorte')"
   ]
  },
  {
   "cell_type": "code",
   "execution_count": null,
   "metadata": {},
   "outputs": [],
   "source": []
  }
 ],
 "metadata": {
  "kernelspec": {
   "display_name": "Python 3",
   "language": "python",
   "name": "python3"
  },
  "language_info": {
   "codemirror_mode": {
    "name": "ipython",
    "version": 3
   },
   "file_extension": ".py",
   "mimetype": "text/x-python",
   "name": "python",
   "nbconvert_exporter": "python",
   "pygments_lexer": "ipython3",
   "version": "3.8.3"
  }
 },
 "nbformat": 4,
 "nbformat_minor": 4
}
