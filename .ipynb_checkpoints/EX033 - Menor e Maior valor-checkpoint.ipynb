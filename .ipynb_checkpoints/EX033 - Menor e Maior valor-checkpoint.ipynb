{
 "cells": [
  {
   "cell_type": "code",
   "execution_count": 1,
   "metadata": {},
   "outputs": [
    {
     "name": "stdout",
     "output_type": "stream",
     "text": [
      "Digite o primeiro valor: 5\n",
      "Digite o segundo valor: 2\n",
      "Digite o terceiro valor: 8\n",
      "O menor valor é o 2\n",
      "O maior valor é o 8\n"
     ]
    }
   ],
   "source": [
    "a1=int(input('Digite o primeiro valor: '))\n",
    "a2=int(input('Digite o segundo valor: '))\n",
    "a3=int(input('Digite o terceiro valor: '))\n",
    "maior = a1\n",
    "if a2>a1 and a2>a3:\n",
    "    maior = a2\n",
    "if a3>a1 and a3>a2:\n",
    "    maior = a3\n",
    "menor = a1\n",
    "if a2<a1 and a2<a3:\n",
    "    menor = a2\n",
    "if a3<a1 and a3<a2:\n",
    "    menor = a3\n",
    "print('O menor valor é o {}'.format(menor))\n",
    "print('O maior valor é o {}'.format(maior))"
   ]
  },
  {
   "cell_type": "code",
   "execution_count": null,
   "metadata": {},
   "outputs": [],
   "source": []
  }
 ],
 "metadata": {
  "kernelspec": {
   "display_name": "Python 3",
   "language": "python",
   "name": "python3"
  },
  "language_info": {
   "codemirror_mode": {
    "name": "ipython",
    "version": 3
   },
   "file_extension": ".py",
   "mimetype": "text/x-python",
   "name": "python",
   "nbconvert_exporter": "python",
   "pygments_lexer": "ipython3",
   "version": "3.8.3"
  }
 },
 "nbformat": 4,
 "nbformat_minor": 4
}
