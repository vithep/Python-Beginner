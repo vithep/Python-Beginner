{
 "cells": [
  {
   "cell_type": "code",
   "execution_count": 1,
   "metadata": {},
   "outputs": [
    {
     "name": "stdout",
     "output_type": "stream",
     "text": [
      "~~~~~~~~~~~~~~~~~~\n",
      "  Victor Pereira\n",
      "~~~~~~~~~~~~~~~~~~\n",
      "~~~~~~~~~~~~~~~~\n",
      "  Data Science\n",
      "~~~~~~~~~~~~~~~~\n",
      "~~~~~~~~~~~~~~~~~~~~~~~\n",
      "  Engenharia Mecânica\n",
      "~~~~~~~~~~~~~~~~~~~~~~~\n"
     ]
    }
   ],
   "source": [
    "def escreva(msg):\n",
    "    tam = len(msg)+4\n",
    "    print('~'*tam)\n",
    "    print(f'  {msg}')\n",
    "    print('~' *tam)\n",
    "\n",
    "escreva('Victor Pereira')\n",
    "escreva('Data Science')\n",
    "escreva('Engenharia Mecânica')"
   ]
  },
  {
   "cell_type": "code",
   "execution_count": null,
   "metadata": {},
   "outputs": [],
   "source": []
  }
 ],
 "metadata": {
  "kernelspec": {
   "display_name": "Python 3",
   "language": "python",
   "name": "python3"
  },
  "language_info": {
   "codemirror_mode": {
    "name": "ipython",
    "version": 3
   },
   "file_extension": ".py",
   "mimetype": "text/x-python",
   "name": "python",
   "nbconvert_exporter": "python",
   "pygments_lexer": "ipython3",
   "version": "3.8.3"
  }
 },
 "nbformat": 4,
 "nbformat_minor": 4
}
