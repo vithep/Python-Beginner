{
 "cells": [
  {
   "cell_type": "code",
   "execution_count": 1,
   "metadata": {},
   "outputs": [
    {
     "name": "stdout",
     "output_type": "stream",
     "text": [
      "Digite um numero para conversão: 50\n",
      "Escolha uma das bases para conversão\n",
      "[ 1 ] converter em BINARIO\n",
      "[ 2 ] converter em OCTAL\n",
      "[ 3 ] converter em HEXADECIMAL\n",
      "Sua opção: 3\n",
      "50 convertido para HEXADECIMAL é igual a 32\n"
     ]
    }
   ],
   "source": [
    "n=int(input('Digite um numero para conversão: '))\n",
    "print('''Escolha uma das bases para conversão\n",
    "[ 1 ] converter em BINARIO\n",
    "[ 2 ] converter em OCTAL\n",
    "[ 3 ] converter em HEXADECIMAL''')\n",
    "op=int(input('Sua opção: '))\n",
    "if op == 1:\n",
    "    print('{} convertido para BINCARIO é igual a {}'.format(n,bin(n)[2:]))\n",
    "elif op ==2:\n",
    "    print('{} convertido para OCTAL é igual a {}'.format(n,oct(n)[2:]))\n",
    "elif op ==3:\n",
    "    print('{} convertido para HEXADECIMAL é igual a {}'.format(n, hex(n)[2:]))\n",
    "else:\n",
    "    print('Valor invalido')"
   ]
  },
  {
   "cell_type": "code",
   "execution_count": null,
   "metadata": {},
   "outputs": [],
   "source": []
  }
 ],
 "metadata": {
  "kernelspec": {
   "display_name": "Python 3",
   "language": "python",
   "name": "python3"
  },
  "language_info": {
   "codemirror_mode": {
    "name": "ipython",
    "version": 3
   },
   "file_extension": ".py",
   "mimetype": "text/x-python",
   "name": "python",
   "nbconvert_exporter": "python",
   "pygments_lexer": "ipython3",
   "version": "3.8.3"
  }
 },
 "nbformat": 4,
 "nbformat_minor": 4
}
