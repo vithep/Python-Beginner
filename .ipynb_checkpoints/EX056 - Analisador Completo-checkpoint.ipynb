{
 "cells": [
  {
   "cell_type": "code",
   "execution_count": 2,
   "metadata": {},
   "outputs": [
    {
     "name": "stdout",
     "output_type": "stream",
     "text": [
      "----- 1ª PESSOA -----\n",
      "NOME: victor\n",
      "IDADE: 25\n",
      "Sexo [M/F]: m\n",
      "----- 2ª PESSOA -----\n",
      "NOME: renan\n",
      "IDADE: 27\n",
      "Sexo [M/F]: m\n",
      "----- 3ª PESSOA -----\n",
      "NOME: rosa\n",
      "IDADE: 56\n",
      "Sexo [M/F]: f\n",
      "----- 4ª PESSOA -----\n",
      "NOME: sergio\n",
      "IDADE: 63\n",
      "Sexo [M/F]: m\n",
      "\n",
      "A media de idade desse grupo é de 42.75 anos\n",
      "O homem mais velho se chama sergio e tem 63 anos\n",
      "Ao todo são 0 mulheres com menos de 20 anos\n"
     ]
    }
   ],
   "source": [
    "soma = 0\n",
    "media = 0\n",
    "nomevelho = \" \"\n",
    "maiorid=0\n",
    "totm = 0\n",
    "for i in range (1,5):\n",
    "    print('''----- {}ª PESSOA -----'''.format(i))\n",
    "    nome= str(input('NOME: ')).strip()\n",
    "    idade= int(input('IDADE: '))\n",
    "    sexo=str(input('Sexo [M/F]: ')).strip().upper()\n",
    "    soma +=idade\n",
    "    if i==1 and sexo in 'M':\n",
    "        maiorid = idade\n",
    "        nomevelho = nome\n",
    "    if sexo in 'M' and idade>maiorid:\n",
    "        maiorid = idade\n",
    "        nomevelho = nome\n",
    "    if sexo in 'F' and idade<20:\n",
    "        totm += 1\n",
    "print('\\nA media de idade desse grupo é de {} anos'.format(soma/4))\n",
    "print('O homem mais velho se chama {} e tem {} anos'.format(nomevelho,maiorid))\n",
    "print('Ao todo são {} mulheres com menos de 20 anos'.format(totm))"
   ]
  },
  {
   "cell_type": "code",
   "execution_count": null,
   "metadata": {},
   "outputs": [],
   "source": []
  }
 ],
 "metadata": {
  "kernelspec": {
   "display_name": "Python 3",
   "language": "python",
   "name": "python3"
  },
  "language_info": {
   "codemirror_mode": {
    "name": "ipython",
    "version": 3
   },
   "file_extension": ".py",
   "mimetype": "text/x-python",
   "name": "python",
   "nbconvert_exporter": "python",
   "pygments_lexer": "ipython3",
   "version": "3.8.3"
  }
 },
 "nbformat": 4,
 "nbformat_minor": 4
}
