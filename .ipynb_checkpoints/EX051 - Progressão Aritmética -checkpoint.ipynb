{
 "cells": [
  {
   "cell_type": "code",
   "execution_count": 1,
   "metadata": {},
   "outputs": [
    {
     "name": "stdout",
     "output_type": "stream",
     "text": [
      "==============================\n",
      "    10 TERMOS DE UMA PA    \n",
      "==============================\n",
      "Primeiro Termo: 6\n",
      "Razão: 2\n",
      "6 -> 8 -> 10 -> 12 -> 14 -> 16 -> 18 -> 20 -> 22 -> 24 -> ACABOU\n"
     ]
    }
   ],
   "source": [
    "print('='*30)\n",
    "print('    10 TERMOS DE UMA PA    ')\n",
    "print('='*30)\n",
    "p=int(input('Primeiro Termo: '))\n",
    "r=int(input('Razão: '))\n",
    "f=p+(10-1)*r\n",
    "for i in range(p,f+r,r):\n",
    "    print(i, end=\" -> \")\n",
    "print('ACABOU')"
   ]
  },
  {
   "cell_type": "code",
   "execution_count": null,
   "metadata": {},
   "outputs": [],
   "source": []
  }
 ],
 "metadata": {
  "kernelspec": {
   "display_name": "Python 3",
   "language": "python",
   "name": "python3"
  },
  "language_info": {
   "codemirror_mode": {
    "name": "ipython",
    "version": 3
   },
   "file_extension": ".py",
   "mimetype": "text/x-python",
   "name": "python",
   "nbconvert_exporter": "python",
   "pygments_lexer": "ipython3",
   "version": "3.8.3"
  }
 },
 "nbformat": 4,
 "nbformat_minor": 4
}
