{
 "cells": [
  {
   "cell_type": "code",
   "execution_count": 1,
   "metadata": {},
   "outputs": [
    {
     "name": "stdout",
     "output_type": "stream",
     "text": [
      "Nome do Jogador: Victor\n",
      "Quantas partidas Victor jogou? 3\n",
      "     Quantos gols na partida 0?  4\n",
      "     Quantos gols na partida 1?  2\n",
      "     Quantos gols na partida 2?  1\n",
      "-=-=-=-=-=-=-=-=-=-=-=-=-=-=-=-=-=-=-=-=-=-=-=-=-=-=-=-=-=-=\n",
      "{'nome': 'Victor', 'gols': [4, 2, 1], 'total': 7}\n",
      "-=-=-=-=-=-=-=-=-=-=-=-=-=-=-=-=-=-=-=-=-=-=-=-=-=-=-=-=-=-=\n",
      "O campo nome tem o valor Victor\n",
      "O campo gols tem o valor [4, 2, 1]\n",
      "O campo total tem o valor 7\n",
      "-=-=-=-=-=-=-=-=-=-=-=-=-=-=-=-=-=-=-=-=-=-=-=-=-=-=-=-=-=-=\n",
      "O jogador Victor jogou 3 partidas\n",
      "      => Na partida 0, fez 4 gols.\n",
      "      => Na partida 1, fez 2 gols.\n",
      "      => Na partida 2, fez 1 gols.\n",
      "Foi um total de 7 gols.\n"
     ]
    }
   ],
   "source": [
    "jogador = dict()\n",
    "partidas = list()\n",
    "jogador['nome'] = str(input('Nome do Jogador: '))\n",
    "tot = int(input(f'Quantas partidas {jogador[\"nome\"]} jogou? '))\n",
    "for c in range(0,tot):\n",
    "    partidas.append(int(input(f'     Quantos gols na partida {c}?  ')))\n",
    "jogador['gols'] = partidas[:]\n",
    "jogador['total'] = sum(partidas)\n",
    "print('-='*30)\n",
    "print(jogador)\n",
    "print('-='*30)\n",
    "for k,v in jogador.items():\n",
    "    print(f'O campo {k} tem o valor {v}')\n",
    "print('-='*30)\n",
    "print(f'O jogador {jogador[\"nome\"]} jogou {len(jogador[\"gols\"])} partidas')\n",
    "for i,v in enumerate(jogador['gols']):\n",
    "    print(f'      => Na partida {i}, fez {v} gols.')\n",
    "print(f'Foi um total de {jogador[\"total\"]} gols.')"
   ]
  },
  {
   "cell_type": "code",
   "execution_count": null,
   "metadata": {},
   "outputs": [],
   "source": []
  }
 ],
 "metadata": {
  "kernelspec": {
   "display_name": "Python 3",
   "language": "python",
   "name": "python3"
  },
  "language_info": {
   "codemirror_mode": {
    "name": "ipython",
    "version": 3
   },
   "file_extension": ".py",
   "mimetype": "text/x-python",
   "name": "python",
   "nbconvert_exporter": "python",
   "pygments_lexer": "ipython3",
   "version": "3.8.3"
  }
 },
 "nbformat": 4,
 "nbformat_minor": 4
}
