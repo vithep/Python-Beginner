{
 "cells": [
  {
   "cell_type": "code",
   "execution_count": 1,
   "metadata": {},
   "outputs": [],
   "source": [
    "from random import randint\n",
    "from time import sleep"
   ]
  },
  {
   "cell_type": "code",
   "execution_count": 2,
   "metadata": {},
   "outputs": [
    {
     "name": "stdout",
     "output_type": "stream",
     "text": [
      "Sorteando 5 valores da lista: 3 5 4 9 2 PRONTO!\n",
      "Somando os valores pares de [3, 5, 4, 9, 2], temos 6\n"
     ]
    }
   ],
   "source": [
    "def sorteia(lista):\n",
    "    print('Sorteando 5 valores da lista: ', end='')\n",
    "    for cont in range(0,5):\n",
    "        n = randint(1,10)\n",
    "        lista.append(n)\n",
    "        print(f'{n} ', end='', flush=True)\n",
    "        sleep(0.3)\n",
    "    print('PRONTO!')\n",
    "\n",
    "def somapar(lista):\n",
    "    soma = 0\n",
    "    for valor in lista:\n",
    "        if valor%2==0:\n",
    "            soma+=valor\n",
    "    print(f'Somando os valores pares de {lista}, temos {soma}')\n",
    "\n",
    "\n",
    "numeros = []\n",
    "sorteia(numeros)\n",
    "somapar(numeros)"
   ]
  },
  {
   "cell_type": "code",
   "execution_count": null,
   "metadata": {},
   "outputs": [],
   "source": []
  }
 ],
 "metadata": {
  "kernelspec": {
   "display_name": "Python 3",
   "language": "python",
   "name": "python3"
  },
  "language_info": {
   "codemirror_mode": {
    "name": "ipython",
    "version": 3
   },
   "file_extension": ".py",
   "mimetype": "text/x-python",
   "name": "python",
   "nbconvert_exporter": "python",
   "pygments_lexer": "ipython3",
   "version": "3.8.3"
  }
 },
 "nbformat": 4,
 "nbformat_minor": 4
}
