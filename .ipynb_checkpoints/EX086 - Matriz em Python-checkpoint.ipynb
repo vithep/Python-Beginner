{
 "cells": [
  {
   "cell_type": "code",
   "execution_count": 1,
   "metadata": {},
   "outputs": [
    {
     "name": "stdout",
     "output_type": "stream",
     "text": [
      "Digite um valor para [0,0]: 1\n",
      "Digite um valor para [0,1]: 2\n",
      "Digite um valor para [0,2]: 3\n",
      "Digite um valor para [1,0]: 4\n",
      "Digite um valor para [1,1]: 5\n",
      "Digite um valor para [1,2]: 6\n",
      "Digite um valor para [2,0]: 7\n",
      "Digite um valor para [2,1]: 8\n",
      "Digite um valor para [2,2]: 9\n",
      "[1][2][3]\n",
      "[4][5][6]\n",
      "[7][8][9]\n"
     ]
    }
   ],
   "source": [
    "matriz = [[0, 0, 0],[0, 0, 0],[0, 0, 0]]\n",
    "for i in range(0,3):\n",
    "    for c in range(0,3):\n",
    "        matriz[i][c] = int(input(f'Digite um valor para [{i},{c}]: '))\n",
    "for i in range(0,3):\n",
    "    for c in range(0,3):\n",
    "         print(f'[{matriz[i][c]}]', end='')\n",
    "    print()"
   ]
  },
  {
   "cell_type": "code",
   "execution_count": null,
   "metadata": {},
   "outputs": [],
   "source": []
  }
 ],
 "metadata": {
  "kernelspec": {
   "display_name": "Python 3",
   "language": "python",
   "name": "python3"
  },
  "language_info": {
   "codemirror_mode": {
    "name": "ipython",
    "version": 3
   },
   "file_extension": ".py",
   "mimetype": "text/x-python",
   "name": "python",
   "nbconvert_exporter": "python",
   "pygments_lexer": "ipython3",
   "version": "3.8.3"
  }
 },
 "nbformat": 4,
 "nbformat_minor": 4
}
