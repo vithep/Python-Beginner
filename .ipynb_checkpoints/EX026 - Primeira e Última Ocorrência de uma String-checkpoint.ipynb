{
 "cells": [
  {
   "cell_type": "code",
   "execution_count": 5,
   "metadata": {},
   "outputs": [
    {
     "name": "stdout",
     "output_type": "stream",
     "text": [
      "Digite uma frase: Ciência de Dados\n",
      "A letra A aparece 2 vezes na frase.\n",
      "A primeira letra A apareceu na posição 7\n",
      "A ultima letra A apareceu na posição 13\n"
     ]
    }
   ],
   "source": [
    "f=str(input('Digite uma frase: ')).strip().upper()\n",
    "print('A letra A aparece {} vezes na frase.'.format(f.count(\"A\")))\n",
    "print('A primeira letra A apareceu na posição {}'.format(f.find(\"A\")+1))\n",
    "print('A ultima letra A apareceu na posição {}'.format(f.rfind(\"A\")+1))"
   ]
  },
  {
   "cell_type": "code",
   "execution_count": null,
   "metadata": {},
   "outputs": [],
   "source": []
  }
 ],
 "metadata": {
  "kernelspec": {
   "display_name": "Python 3",
   "language": "python",
   "name": "python3"
  },
  "language_info": {
   "codemirror_mode": {
    "name": "ipython",
    "version": 3
   },
   "file_extension": ".py",
   "mimetype": "text/x-python",
   "name": "python",
   "nbconvert_exporter": "python",
   "pygments_lexer": "ipython3",
   "version": "3.8.3"
  }
 },
 "nbformat": 4,
 "nbformat_minor": 4
}
