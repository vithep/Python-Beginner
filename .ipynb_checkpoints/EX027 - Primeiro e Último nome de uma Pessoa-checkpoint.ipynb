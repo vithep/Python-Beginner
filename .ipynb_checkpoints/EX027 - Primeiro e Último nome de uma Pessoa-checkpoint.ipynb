{
 "cells": [
  {
   "cell_type": "code",
   "execution_count": 1,
   "metadata": {},
   "outputs": [
    {
     "name": "stdout",
     "output_type": "stream",
     "text": [
      "Digite seu nome completo: Victor Henrique Pereira\n",
      "Seu primeiro nome é Victor\n",
      "Seu segundo nome é Henrique\n",
      "Seu ultimo nome é Pereira\n"
     ]
    }
   ],
   "source": [
    "n=str(input('Digite seu nome completo: ')).strip()\n",
    "nome=n.split()\n",
    "print('Seu primeiro nome é {}'.format(nome[0]))\n",
    "print('Seu segundo nome é {}'.format(nome[1]))\n",
    "print('Seu ultimo nome é {}'.format(nome[len(nome)-1]))"
   ]
  },
  {
   "cell_type": "code",
   "execution_count": null,
   "metadata": {},
   "outputs": [],
   "source": []
  }
 ],
 "metadata": {
  "kernelspec": {
   "display_name": "Python 3",
   "language": "python",
   "name": "python3"
  },
  "language_info": {
   "codemirror_mode": {
    "name": "ipython",
    "version": 3
   },
   "file_extension": ".py",
   "mimetype": "text/x-python",
   "name": "python",
   "nbconvert_exporter": "python",
   "pygments_lexer": "ipython3",
   "version": "3.8.3"
  }
 },
 "nbformat": 4,
 "nbformat_minor": 4
}
