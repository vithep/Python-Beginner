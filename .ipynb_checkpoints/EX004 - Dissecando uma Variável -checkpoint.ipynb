{
 "cells": [
  {
   "cell_type": "code",
   "execution_count": 1,
   "metadata": {},
   "outputs": [
    {
     "name": "stdout",
     "output_type": "stream",
     "text": [
      "Digite algo:Olá, Mundo!\n",
      "O tipo digitado é uma <class 'str'>\n",
      "É numerico? False\n",
      "É letra? False\n",
      "Tem só espaço? False\n",
      "É alfanumerico? False\n",
      "Letra Maiuscula? False\n",
      "Letra Minuscula? False\n",
      "Ambos os tipos? True\n"
     ]
    }
   ],
   "source": [
    "n = input(\"Digite algo:\")\n",
    "print('O tipo digitado é uma {}'.format(type(n)))\n",
    "print(\"É numerico? {}\".format(n.isnumeric()))\n",
    "print(\"É letra? {}\".format(n.isalpha()))\n",
    "print(\"Tem só espaço? {}\".format(n.isspace()))\n",
    "print(\"É alfanumerico? {}\".format(n.isalnum()))\n",
    "print(\"Letra Maiuscula? {}\".format(n.isupper()))\n",
    "print(\"Letra Minuscula? {}\".format(n.islower()))\n",
    "print(\"Ambos os tipos? {}\".format(n.istitle()))"
   ]
  },
  {
   "cell_type": "code",
   "execution_count": null,
   "metadata": {},
   "outputs": [],
   "source": []
  }
 ],
 "metadata": {
  "kernelspec": {
   "display_name": "Python 3",
   "language": "python",
   "name": "python3"
  },
  "language_info": {
   "codemirror_mode": {
    "name": "ipython",
    "version": 3
   },
   "file_extension": ".py",
   "mimetype": "text/x-python",
   "name": "python",
   "nbconvert_exporter": "python",
   "pygments_lexer": "ipython3",
   "version": "3.8.3"
  }
 },
 "nbformat": 4,
 "nbformat_minor": 4
}
