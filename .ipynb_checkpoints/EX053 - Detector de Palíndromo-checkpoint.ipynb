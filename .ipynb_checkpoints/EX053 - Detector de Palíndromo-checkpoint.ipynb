{
 "cells": [
  {
   "cell_type": "code",
   "execution_count": 1,
   "metadata": {},
   "outputs": [
    {
     "name": "stdout",
     "output_type": "stream",
     "text": [
      "Digite uma frase: Olá, Mundo!\n",
      "O inverso de OLÁ,MUNDO! é !ODNUM,ÁLO\n",
      "A frase não é um Palindromo\n"
     ]
    }
   ],
   "source": [
    "fr=str(input('Digite uma frase: ')).strip().upper()\n",
    "palavras= fr.split()\n",
    "jo=\"\".join(palavras)\n",
    "inverso = \"\"\n",
    "for letra in range(len(jo)-1,-1,-1):\n",
    "    inverso += jo[letra]\n",
    "print('O inverso de {} é {}'.format(jo,inverso))\n",
    "if inverso == jo:\n",
    "    print('A frase é um Palindromo')\n",
    "else:\n",
    "    print('A frase não é um Palindromo')"
   ]
  },
  {
   "cell_type": "code",
   "execution_count": null,
   "metadata": {},
   "outputs": [],
   "source": []
  }
 ],
 "metadata": {
  "kernelspec": {
   "display_name": "Python 3",
   "language": "python",
   "name": "python3"
  },
  "language_info": {
   "codemirror_mode": {
    "name": "ipython",
    "version": 3
   },
   "file_extension": ".py",
   "mimetype": "text/x-python",
   "name": "python",
   "nbconvert_exporter": "python",
   "pygments_lexer": "ipython3",
   "version": "3.8.3"
  }
 },
 "nbformat": 4,
 "nbformat_minor": 4
}
