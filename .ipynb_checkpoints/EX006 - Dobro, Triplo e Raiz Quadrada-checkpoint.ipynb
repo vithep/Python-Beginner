{
 "cells": [
  {
   "cell_type": "code",
   "execution_count": 2,
   "metadata": {},
   "outputs": [
    {
     "name": "stdout",
     "output_type": "stream",
     "text": [
      "Digite um valor:4\n",
      "O dobro de 4 vale 8.\n",
      "O triplo de 4 vale 12.\n",
      "A raiz quadrada de 4 vale 2.\n"
     ]
    }
   ],
   "source": [
    "n = int(input(\"Digite um valor:\"))\n",
    "print(\"O dobro de {} vale {}.\\nO triplo de {} vale {}.\\nA raiz quadrada de {} vale {}.\".format(n,n*2,n,n*3,n,int(n**0.5)))\n"
   ]
  },
  {
   "cell_type": "code",
   "execution_count": null,
   "metadata": {},
   "outputs": [],
   "source": []
  }
 ],
 "metadata": {
  "kernelspec": {
   "display_name": "Python 3",
   "language": "python",
   "name": "python3"
  },
  "language_info": {
   "codemirror_mode": {
    "name": "ipython",
    "version": 3
   },
   "file_extension": ".py",
   "mimetype": "text/x-python",
   "name": "python",
   "nbconvert_exporter": "python",
   "pygments_lexer": "ipython3",
   "version": "3.8.3"
  }
 },
 "nbformat": 4,
 "nbformat_minor": 4
}
