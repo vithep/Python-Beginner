{
 "cells": [
  {
   "cell_type": "code",
   "execution_count": 2,
   "metadata": {},
   "outputs": [
    {
     "name": "stdout",
     "output_type": "stream",
     "text": [
      "Digite um valor para [0,0]: 1\n",
      "Digite um valor para [0,1]: 2\n",
      "Digite um valor para [0,2]: 3\n",
      "Digite um valor para [1,0]: 4\n",
      "Digite um valor para [1,1]: 5\n",
      "Digite um valor para [1,2]: 6\n",
      "Digite um valor para [2,0]: 7\n",
      "Digite um valor para [2,1]: 8\n",
      "Digite um valor para [2,2]: 9\n",
      "[1][2][3]\n",
      "[4][5][6]\n",
      "[7][8][9]\n",
      "-=-=-=-=-=-=-=-=-=-=-=-=-=-=-=-=-=-=-=-=-=-=-=-=-=-=-=-=-=-=\n",
      "A soma dos valores pares é 20\n",
      "A soma dos valores da terceira coluna é 18\n",
      "O maior valor da segunda linha é 6\n",
      "A media é igual 5.0\n"
     ]
    }
   ],
   "source": [
    "matriz = [[0, 0, 0],[0, 0, 0],[0, 0, 0]]\n",
    "somap = 0\n",
    "somai=0\n",
    "somat = 0\n",
    "maior = 0\n",
    "media = 0\n",
    "soma = 0\n",
    "cont = 0\n",
    "for i in range(0,3):\n",
    "    for c in range(0,3):\n",
    "        matriz[i][c] = int(input(f'Digite um valor para [{i},{c}]: '))\n",
    "for i in range(0,3):\n",
    "    for c in range(0,3):\n",
    "         print(f'[{matriz[i][c]}]', end='')\n",
    "    print()\n",
    "for i in range(0,3):\n",
    "    for c in range(0,3):\n",
    "        if matriz[i][c]%2 == 0:\n",
    "            somap += matriz[i][c]\n",
    "        else:\n",
    "            somai += matriz[i][c]\n",
    "for i in range(0,3):\n",
    "    somat += matriz[i][2]\n",
    "for i in range (0,3):\n",
    "    if maior == 0:\n",
    "       maior = matriz[1][i]\n",
    "    else:\n",
    "        if matriz[1][i]>maior:\n",
    "            maior = matriz[1][i]\n",
    "for i in range(0,3):\n",
    "    for c in range(0,3):\n",
    "        soma += matriz[i][c]\n",
    "        cont += 1\n",
    "print('-='*30)\n",
    "media = soma/cont\n",
    "print(f'A soma dos valores pares é {somap}')\n",
    "print(f'A soma dos valores da terceira coluna é {somat}')\n",
    "print(f'O maior valor da segunda linha é {maior}')\n",
    "print(f'A media é igual {media}')"
   ]
  },
  {
   "cell_type": "markdown",
   "metadata": {},
   "source": []
  }
 ],
 "metadata": {
  "kernelspec": {
   "display_name": "Python 3",
   "language": "python",
   "name": "python3"
  },
  "language_info": {
   "codemirror_mode": {
    "name": "ipython",
    "version": 3
   },
   "file_extension": ".py",
   "mimetype": "text/x-python",
   "name": "python",
   "nbconvert_exporter": "python",
   "pygments_lexer": "ipython3",
   "version": "3.8.3"
  }
 },
 "nbformat": 4,
 "nbformat_minor": 4
}
