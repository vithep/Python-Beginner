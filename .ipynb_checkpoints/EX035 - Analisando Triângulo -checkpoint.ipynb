{
 "cells": [
  {
   "cell_type": "code",
   "execution_count": 1,
   "metadata": {},
   "outputs": [
    {
     "name": "stdout",
     "output_type": "stream",
     "text": [
      "Valor do primeiro lado: 6\n",
      "Valor do segundo lado: 3\n",
      "Valor do terceiro lado: 4\n",
      "Os lados informados PODEM FORMAR UM TRIANGULO\n"
     ]
    }
   ],
   "source": [
    "h=float(input('Valor do primeiro lado: '))\n",
    "c=float(input('Valor do segundo lado: '))\n",
    "e=float(input('Valor do terceiro lado: '))\n",
    "if h<c+e and c<h+e and e<c+h:\n",
    "    print('Os lados informados PODEM FORMAR UM TRIANGULO')\n",
    "else:\n",
    "    print('Os lados informados NÃO PODEM FORMAR UM TRIANGULO')"
   ]
  },
  {
   "cell_type": "code",
   "execution_count": null,
   "metadata": {},
   "outputs": [],
   "source": []
  }
 ],
 "metadata": {
  "kernelspec": {
   "display_name": "Python 3",
   "language": "python",
   "name": "python3"
  },
  "language_info": {
   "codemirror_mode": {
    "name": "ipython",
    "version": 3
   },
   "file_extension": ".py",
   "mimetype": "text/x-python",
   "name": "python",
   "nbconvert_exporter": "python",
   "pygments_lexer": "ipython3",
   "version": "3.8.3"
  }
 },
 "nbformat": 4,
 "nbformat_minor": 4
}
