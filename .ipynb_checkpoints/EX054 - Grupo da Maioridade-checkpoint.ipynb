{
 "cells": [
  {
   "cell_type": "code",
   "execution_count": 1,
   "metadata": {},
   "outputs": [],
   "source": [
    "from datetime import date"
   ]
  },
  {
   "cell_type": "code",
   "execution_count": 2,
   "metadata": {},
   "outputs": [
    {
     "name": "stdout",
     "output_type": "stream",
     "text": [
      "Em que ano a 1ª pessoa nasceu? 1995\n",
      "Em que ano a 2ª pessoa nasceu? 2001\n",
      "Em que ano a 3ª pessoa nasceu? 1990\n",
      "Em que ano a 4ª pessoa nasceu? 1958\n",
      "Em que ano a 5ª pessoa nasceu? 1990\n",
      "Em que ano a 6ª pessoa nasceu? 1997\n",
      "Em que ano a 7ª pessoa nasceu? 1995\n",
      "\n",
      "Ao todo tivemos 7 pessoas maiores de idade\n",
      "Ao todo tivemos 0 pessoas menores de idade\n"
     ]
    }
   ],
   "source": [
    "ano = date.today().year\n",
    "maior= 0\n",
    "menor= 0\n",
    "for i in range(1,8):\n",
    "    nasc = int(input('Em que ano a {}ª pessoa nasceu? '.format(i)))\n",
    "    id = ano-nasc\n",
    "    if id>=18:\n",
    "        maior +=1\n",
    "    else:\n",
    "        menor +=1\n",
    "print('\\nAo todo tivemos {} pessoas maiores de idade'.format(maior))\n",
    "print('Ao todo tivemos {} pessoas menores de idade'.format(menor))"
   ]
  },
  {
   "cell_type": "code",
   "execution_count": null,
   "metadata": {},
   "outputs": [],
   "source": []
  }
 ],
 "metadata": {
  "kernelspec": {
   "display_name": "Python 3",
   "language": "python",
   "name": "python3"
  },
  "language_info": {
   "codemirror_mode": {
    "name": "ipython",
    "version": 3
   },
   "file_extension": ".py",
   "mimetype": "text/x-python",
   "name": "python",
   "nbconvert_exporter": "python",
   "pygments_lexer": "ipython3",
   "version": "3.8.3"
  }
 },
 "nbformat": 4,
 "nbformat_minor": 4
}
