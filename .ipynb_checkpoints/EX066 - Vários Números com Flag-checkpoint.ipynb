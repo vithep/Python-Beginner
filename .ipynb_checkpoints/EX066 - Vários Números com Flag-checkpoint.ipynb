{
 "cells": [
  {
   "cell_type": "code",
   "execution_count": 1,
   "metadata": {},
   "outputs": [
    {
     "name": "stdout",
     "output_type": "stream",
     "text": [
      "Digite um valor: 5\n",
      "Digite um valor: 3\n",
      "Digite um valor: 2\n",
      "Digite um valor: 1\n",
      "Digite um valor: 7\n",
      "Digite um valor: 9\n",
      "Digite um valor: 9\n",
      "Digite um valor: 6\n",
      "Digite um valor: 4\n",
      "Digite um valor: 6\n",
      "Digite um valor: 7\n",
      "Digite um valor: 999\n",
      "Você digitou 11 numeros e a somatoria é igual 59\n"
     ]
    }
   ],
   "source": [
    "n = cont = soma = 0\n",
    "while True:\n",
    "    n=int(input('Digite um valor: '))\n",
    "    if n == 999:\n",
    "        break\n",
    "    cont += 1\n",
    "    soma += n\n",
    "print(f'Você digitou {cont} numeros e a somatoria é igual {soma}')"
   ]
  },
  {
   "cell_type": "code",
   "execution_count": null,
   "metadata": {},
   "outputs": [],
   "source": []
  }
 ],
 "metadata": {
  "kernelspec": {
   "display_name": "Python 3",
   "language": "python",
   "name": "python3"
  },
  "language_info": {
   "codemirror_mode": {
    "name": "ipython",
    "version": 3
   },
   "file_extension": ".py",
   "mimetype": "text/x-python",
   "name": "python",
   "nbconvert_exporter": "python",
   "pygments_lexer": "ipython3",
   "version": "3.8.3"
  }
 },
 "nbformat": 4,
 "nbformat_minor": 4
}
