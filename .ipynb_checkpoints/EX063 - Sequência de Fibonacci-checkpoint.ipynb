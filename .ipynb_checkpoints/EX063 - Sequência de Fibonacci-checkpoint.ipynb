{
 "cells": [
  {
   "cell_type": "code",
   "execution_count": 1,
   "metadata": {},
   "outputs": [
    {
     "name": "stdout",
     "output_type": "stream",
     "text": [
      "Quantos termos você quer mostrar? 5\n",
      " -> 0 -> 1 -> 1 -> 2 -> 3 -> 5 FIM\n"
     ]
    }
   ],
   "source": [
    "n = int(input('Quantos termos você quer mostrar? '))\n",
    "t1 = 0\n",
    "t2 = 1\n",
    "cont=0\n",
    "while cont<=n:\n",
    "    t3 = t2 + t1\n",
    "    print(' -> {}'.format(t1,t2), end='')\n",
    "    t1=t2\n",
    "    t2=t3\n",
    "    cont+=1\n",
    "print(' FIM')"
   ]
  },
  {
   "cell_type": "code",
   "execution_count": null,
   "metadata": {},
   "outputs": [],
   "source": []
  }
 ],
 "metadata": {
  "kernelspec": {
   "display_name": "Python 3",
   "language": "python",
   "name": "python3"
  },
  "language_info": {
   "codemirror_mode": {
    "name": "ipython",
    "version": 3
   },
   "file_extension": ".py",
   "mimetype": "text/x-python",
   "name": "python",
   "nbconvert_exporter": "python",
   "pygments_lexer": "ipython3",
   "version": "3.8.3"
  }
 },
 "nbformat": 4,
 "nbformat_minor": 4
}
