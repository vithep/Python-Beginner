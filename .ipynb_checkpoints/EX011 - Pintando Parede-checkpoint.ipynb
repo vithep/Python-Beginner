{
 "cells": [
  {
   "cell_type": "code",
   "execution_count": 1,
   "metadata": {},
   "outputs": [
    {
     "name": "stdout",
     "output_type": "stream",
     "text": [
      "Largura da Parede:5\n",
      "Altura da Parede:3\n",
      "Sua parede tem a dimensão de 5.0x3.0 e sua área é de 15.0m².\n",
      "Para pintar essa parede, você precisará de 7.5l de tinta.\n"
     ]
    }
   ],
   "source": [
    "l=float(input(\"Largura da Parede:\"))\n",
    "a=float(input('Altura da Parede:'))\n",
    "aa=l*a\n",
    "t=aa/2\n",
    "print('Sua parede tem a dimensão de {}x{} e sua área é de {}m².'.format(l,a,aa))\n",
    "print('Para pintar essa parede, você precisará de {}l de tinta.'.format(t))"
   ]
  },
  {
   "cell_type": "code",
   "execution_count": null,
   "metadata": {},
   "outputs": [],
   "source": []
  }
 ],
 "metadata": {
  "kernelspec": {
   "display_name": "Python 3",
   "language": "python",
   "name": "python3"
  },
  "language_info": {
   "codemirror_mode": {
    "name": "ipython",
    "version": 3
   },
   "file_extension": ".py",
   "mimetype": "text/x-python",
   "name": "python",
   "nbconvert_exporter": "python",
   "pygments_lexer": "ipython3",
   "version": "3.8.3"
  }
 },
 "nbformat": 4,
 "nbformat_minor": 4
}
