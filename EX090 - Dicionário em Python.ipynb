{
 "cells": [
  {
   "cell_type": "code",
   "execution_count": 1,
   "metadata": {},
   "outputs": [
    {
     "name": "stdout",
     "output_type": "stream",
     "text": [
      "Nome: Victor\n",
      "Média: 9\n",
      "- Nome é igual a Victor\n",
      "- Media é igual a 9.0\n",
      "- situação é igual a Aprovado\n"
     ]
    }
   ],
   "source": [
    "perfil = dict()\n",
    "perfil['Nome'] = str(input('Nome: '))\n",
    "perfil['Media'] = float(input('Média: '))\n",
    "if perfil['Media'] >=7:\n",
    "    perfil['situação'] = 'Aprovado'\n",
    "elif 5 <= perfil['Media'] <= 7:\n",
    "    perfil['situação'] = 'Recuperação'\n",
    "else:\n",
    "    perfil['situação'] = 'Reprovado'\n",
    "for k,v in perfil.items():\n",
    "    print(f'- {k} é igual a {v}')"
   ]
  },
  {
   "cell_type": "code",
   "execution_count": null,
   "metadata": {},
   "outputs": [],
   "source": []
  }
 ],
 "metadata": {
  "kernelspec": {
   "display_name": "Python 3",
   "language": "python",
   "name": "python3"
  },
  "language_info": {
   "codemirror_mode": {
    "name": "ipython",
    "version": 3
   },
   "file_extension": ".py",
   "mimetype": "text/x-python",
   "name": "python",
   "nbconvert_exporter": "python",
   "pygments_lexer": "ipython3",
   "version": "3.8.3"
  }
 },
 "nbformat": 4,
 "nbformat_minor": 4
}
