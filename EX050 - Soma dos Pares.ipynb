{
 "cells": [
  {
   "cell_type": "code",
   "execution_count": null,
   "metadata": {},
   "outputs": [],
   "source": [
    "soma = 0\n",
    "cont = 0\n",
    "ini = int(input('Qual o inicio? '))\n",
    "fim = int(input('Qual o fim? '))\n",
    "for i in range(ini,fim):\n",
    "    num = int(input('digite o {} valor: '.format(i)))\n",
    "    if num%2==0:\n",
    "        soma += num\n",
    "        cont += 1\n",
    "print('Você informou {} numeros pares e a soma é igual a {}'.format(cont,soma))"
   ]
  },
  {
   "cell_type": "code",
   "execution_count": null,
   "metadata": {},
   "outputs": [],
   "source": []
  }
 ],
 "metadata": {
  "kernelspec": {
   "display_name": "Python 3",
   "language": "python",
   "name": "python3"
  },
  "language_info": {
   "codemirror_mode": {
    "name": "ipython",
    "version": 3
   },
   "file_extension": ".py",
   "mimetype": "text/x-python",
   "name": "python",
   "nbconvert_exporter": "python",
   "pygments_lexer": "ipython3",
   "version": "3.8.3"
  }
 },
 "nbformat": 4,
 "nbformat_minor": 4
}
