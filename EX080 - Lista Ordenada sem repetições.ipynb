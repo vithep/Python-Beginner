{
 "cells": [
  {
   "cell_type": "code",
   "execution_count": 3,
   "metadata": {},
   "outputs": [
    {
     "name": "stdout",
     "output_type": "stream",
     "text": [
      "Digite um numero: 4\n",
      "Adicionado ao Final da Lista\n",
      "Digite um numero: 5\n",
      "Adicionado ao Final da Lista\n",
      "Digite um numero: 6\n",
      "Adicionado ao Final da Lista\n",
      "Digite um numero: 7\n",
      "Adicionado ao Final da Lista\n",
      "Digite um numero: 8\n",
      "Adicionado ao Final da Lista\n",
      "[4, 5, 6, 7, 8]\n"
     ]
    }
   ],
   "source": [
    "lista = []\n",
    "for i in range(0,5):\n",
    "    n=(int(input('Digite um numero: ')))\n",
    "    if i == 0 or n > lista[-1]:\n",
    "        lista.append(n)\n",
    "        print('Adicionado ao Final da Lista')\n",
    "    else:\n",
    "        pos = 0\n",
    "        while pos<len(lista):\n",
    "            if n <= lista[pos]:\n",
    "                lista.insert(pos,n)\n",
    "                print(f'Adicionado na posição {pos+1}ª da lista')\n",
    "                break\n",
    "            pos +=1\n",
    "print(lista)"
   ]
  },
  {
   "cell_type": "code",
   "execution_count": null,
   "metadata": {},
   "outputs": [],
   "source": []
  }
 ],
 "metadata": {
  "kernelspec": {
   "display_name": "Python 3",
   "language": "python",
   "name": "python3"
  },
  "language_info": {
   "codemirror_mode": {
    "name": "ipython",
    "version": 3
   },
   "file_extension": ".py",
   "mimetype": "text/x-python",
   "name": "python",
   "nbconvert_exporter": "python",
   "pygments_lexer": "ipython3",
   "version": "3.8.3"
  }
 },
 "nbformat": 4,
 "nbformat_minor": 4
}
