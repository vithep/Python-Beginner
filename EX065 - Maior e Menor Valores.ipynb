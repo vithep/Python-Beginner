{
 "cells": [
  {
   "cell_type": "code",
   "execution_count": 1,
   "metadata": {},
   "outputs": [
    {
     "name": "stdout",
     "output_type": "stream",
     "text": [
      "Digite um numero: 4\n",
      "Quer continuar [S/N]: s\n",
      "Digite um numero: 2\n",
      "Quer continuar [S/N]: n\n",
      "Você digitou 2 numeros e a media foi de 3.00\n",
      "O menor foi 2 e o maior foi 4\n",
      "ACABOU\n"
     ]
    }
   ],
   "source": [
    "resp = 'S'\n",
    "media = 0\n",
    "soma = 0\n",
    "quant = 0\n",
    "maior = 0\n",
    "menor = 0\n",
    "\n",
    "while resp in 'Ss':\n",
    "    n = int(input('Digite um numero: '))\n",
    "    soma += n\n",
    "    quant +=1\n",
    "    if quant == 1:\n",
    "        maior = menor = n\n",
    "    else:\n",
    "        if n>maior:\n",
    "            maior = n\n",
    "        if n<menor:\n",
    "            menor = n\n",
    "    resp = str(input('Quer continuar [S/N]: ')).strip().upper()\n",
    "media=soma/quant\n",
    "print('Você digitou {} numeros e a media foi de {:.2f}'.format(quant,media))\n",
    "print('O menor foi {} e o maior foi {}'.format(menor,maior))\n",
    "print('ACABOU')"
   ]
  },
  {
   "cell_type": "code",
   "execution_count": null,
   "metadata": {},
   "outputs": [],
   "source": []
  }
 ],
 "metadata": {
  "kernelspec": {
   "display_name": "Python 3",
   "language": "python",
   "name": "python3"
  },
  "language_info": {
   "codemirror_mode": {
    "name": "ipython",
    "version": 3
   },
   "file_extension": ".py",
   "mimetype": "text/x-python",
   "name": "python",
   "nbconvert_exporter": "python",
   "pygments_lexer": "ipython3",
   "version": "3.8.3"
  }
 },
 "nbformat": 4,
 "nbformat_minor": 4
}
