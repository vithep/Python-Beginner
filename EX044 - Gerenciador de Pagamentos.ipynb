{
 "cells": [
  {
   "cell_type": "code",
   "execution_count": 1,
   "metadata": {},
   "outputs": [
    {
     "name": "stdout",
     "output_type": "stream",
     "text": [
      "===========LOJAS PEREIRA=========\n",
      "Preço do Produto: 97.50\n",
      "FORMAS DE PAGAMENTO\n",
      "[ 1 ] á vista em dinheiro/cheque\n",
      "[ 2 ] à vista no cartão\n",
      "[ 3 ] em até 2x no cartão\n",
      "[ 4 ] 3x ou mais no cartão\n",
      "Escolha a opção: 1\n",
      "Escolhido a opção 1\n",
      "O preço final será de R$87.75, dando um desconto de R$9.75\n"
     ]
    }
   ],
   "source": [
    "print('===========LOJAS PEREIRA=========')\n",
    "p=float(input('Preço do Produto: '))\n",
    "print('''FORMAS DE PAGAMENTO\n",
    "[ 1 ] á vista em dinheiro/cheque\n",
    "[ 2 ] à vista no cartão\n",
    "[ 3 ] em até 2x no cartão\n",
    "[ 4 ] 3x ou mais no cartão''')\n",
    "op=int(input('Escolha a opção: '))\n",
    "print('Escolhido a opção {}'.format(op))\n",
    "if op==1:\n",
    "    print('O preço final será de R${:.2f}, dando um desconto de R${:.2f}'.format(p*0.9,p*0.1))\n",
    "elif op == 2:\n",
    "    print('O preço final será de R${:.2f}, dando um desconto de R${:.2f}'.format(p * 0.95, p * 0.05))\n",
    "elif op == 3:\n",
    "    print('O preço final será de R${:.2f}, não tendo desconto'.format(p))\n",
    "elif op ==4:\n",
    "    print('O preço final será de R${:.2f}, tendo um juros de R${:.2f}'.format(p * 1.2, p * 0.2))\n",
    "else:\n",
    "    print('Numero invalido!!')"
   ]
  },
  {
   "cell_type": "code",
   "execution_count": null,
   "metadata": {},
   "outputs": [],
   "source": []
  }
 ],
 "metadata": {
  "kernelspec": {
   "display_name": "Python 3",
   "language": "python",
   "name": "python3"
  },
  "language_info": {
   "codemirror_mode": {
    "name": "ipython",
    "version": 3
   },
   "file_extension": ".py",
   "mimetype": "text/x-python",
   "name": "python",
   "nbconvert_exporter": "python",
   "pygments_lexer": "ipython3",
   "version": "3.8.3"
  }
 },
 "nbformat": 4,
 "nbformat_minor": 4
}
