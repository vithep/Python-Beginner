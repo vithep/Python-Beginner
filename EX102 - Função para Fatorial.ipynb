{
 "cells": [
  {
   "cell_type": "code",
   "execution_count": 1,
   "metadata": {},
   "outputs": [
    {
     "name": "stdout",
     "output_type": "stream",
     "text": [
      "5 x 4 x 3 x 2 x 1 = 120\n"
     ]
    }
   ],
   "source": [
    "def fatorial(n, show=False):\n",
    "    '''\n",
    "    -> Calcula o Fatorial de um número\n",
    "    :param n: O número a ser calculado\n",
    "    :param show: (opicional) Mostrar ou não a conta.\n",
    "    :return: O valor do Fatorial\n",
    "    '''\n",
    "    f = 1\n",
    "    for c in range(n, 0, -1):\n",
    "        if show:\n",
    "            print(f'{c}', end='')\n",
    "            if c > 1:\n",
    "                print(' x ', end='')\n",
    "            else:\n",
    "                print(' = ', end='')\n",
    "        f *= c\n",
    "    return f\n",
    "\n",
    "print(fatorial(5, show=True))"
   ]
  },
  {
   "cell_type": "code",
   "execution_count": null,
   "metadata": {},
   "outputs": [],
   "source": []
  }
 ],
 "metadata": {
  "kernelspec": {
   "display_name": "Python 3",
   "language": "python",
   "name": "python3"
  },
  "language_info": {
   "codemirror_mode": {
    "name": "ipython",
    "version": 3
   },
   "file_extension": ".py",
   "mimetype": "text/x-python",
   "name": "python",
   "nbconvert_exporter": "python",
   "pygments_lexer": "ipython3",
   "version": "3.8.3"
  }
 },
 "nbformat": 4,
 "nbformat_minor": 4
}
